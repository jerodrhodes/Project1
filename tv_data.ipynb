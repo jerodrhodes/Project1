{
 "cells": [
  {
   "cell_type": "code",
   "execution_count": 1,
   "metadata": {},
   "outputs": [],
   "source": [
    "import pandas as pd\n",
    "from pprint import pprint\n",
    "import matplotlib.pyplot as plt\n",
    "import random"
   ]
  },
  {
   "cell_type": "code",
   "execution_count": 2,
   "metadata": {},
   "outputs": [
    {
     "data": {
      "text/html": [
       "<div>\n",
       "<style scoped>\n",
       "    .dataframe tbody tr th:only-of-type {\n",
       "        vertical-align: middle;\n",
       "    }\n",
       "\n",
       "    .dataframe tbody tr th {\n",
       "        vertical-align: top;\n",
       "    }\n",
       "\n",
       "    .dataframe thead th {\n",
       "        text-align: right;\n",
       "    }\n",
       "</style>\n",
       "<table border=\"1\" class=\"dataframe\">\n",
       "  <thead>\n",
       "    <tr style=\"text-align: right;\">\n",
       "      <th></th>\n",
       "      <th>Title</th>\n",
       "      <th>Year</th>\n",
       "      <th>IMDb</th>\n",
       "      <th>Netflix</th>\n",
       "      <th>Hulu</th>\n",
       "      <th>Prime Video</th>\n",
       "      <th>Disney+</th>\n",
       "    </tr>\n",
       "  </thead>\n",
       "  <tbody>\n",
       "    <tr>\n",
       "      <th>0</th>\n",
       "      <td>Breaking Bad</td>\n",
       "      <td>2008</td>\n",
       "      <td>9.5</td>\n",
       "      <td>1</td>\n",
       "      <td>0</td>\n",
       "      <td>0</td>\n",
       "      <td>0</td>\n",
       "    </tr>\n",
       "    <tr>\n",
       "      <th>1</th>\n",
       "      <td>Stranger Things</td>\n",
       "      <td>2016</td>\n",
       "      <td>8.8</td>\n",
       "      <td>1</td>\n",
       "      <td>0</td>\n",
       "      <td>0</td>\n",
       "      <td>0</td>\n",
       "    </tr>\n",
       "    <tr>\n",
       "      <th>2</th>\n",
       "      <td>Money Heist</td>\n",
       "      <td>2017</td>\n",
       "      <td>8.4</td>\n",
       "      <td>1</td>\n",
       "      <td>0</td>\n",
       "      <td>0</td>\n",
       "      <td>0</td>\n",
       "    </tr>\n",
       "    <tr>\n",
       "      <th>3</th>\n",
       "      <td>Sherlock</td>\n",
       "      <td>2010</td>\n",
       "      <td>9.1</td>\n",
       "      <td>1</td>\n",
       "      <td>0</td>\n",
       "      <td>0</td>\n",
       "      <td>0</td>\n",
       "    </tr>\n",
       "    <tr>\n",
       "      <th>4</th>\n",
       "      <td>Better Call Saul</td>\n",
       "      <td>2015</td>\n",
       "      <td>8.7</td>\n",
       "      <td>1</td>\n",
       "      <td>0</td>\n",
       "      <td>0</td>\n",
       "      <td>0</td>\n",
       "    </tr>\n",
       "    <tr>\n",
       "      <th>...</th>\n",
       "      <td>...</td>\n",
       "      <td>...</td>\n",
       "      <td>...</td>\n",
       "      <td>...</td>\n",
       "      <td>...</td>\n",
       "      <td>...</td>\n",
       "      <td>...</td>\n",
       "    </tr>\n",
       "    <tr>\n",
       "      <th>4445</th>\n",
       "      <td>Billy Dilley's Super-Duper Subterranean Summer</td>\n",
       "      <td>2017</td>\n",
       "      <td>4.6</td>\n",
       "      <td>0</td>\n",
       "      <td>0</td>\n",
       "      <td>0</td>\n",
       "      <td>1</td>\n",
       "    </tr>\n",
       "    <tr>\n",
       "      <th>4446</th>\n",
       "      <td>Rocky Mountain Animal Rescue</td>\n",
       "      <td>2018</td>\n",
       "      <td>7.8</td>\n",
       "      <td>0</td>\n",
       "      <td>0</td>\n",
       "      <td>0</td>\n",
       "      <td>1</td>\n",
       "    </tr>\n",
       "    <tr>\n",
       "      <th>4447</th>\n",
       "      <td>Prairie Dog Manor</td>\n",
       "      <td>2019</td>\n",
       "      <td>8.6</td>\n",
       "      <td>0</td>\n",
       "      <td>0</td>\n",
       "      <td>0</td>\n",
       "      <td>1</td>\n",
       "    </tr>\n",
       "    <tr>\n",
       "      <th>4448</th>\n",
       "      <td>Disney Junior Music Nursery Rhymes</td>\n",
       "      <td>2017</td>\n",
       "      <td>6.6</td>\n",
       "      <td>0</td>\n",
       "      <td>0</td>\n",
       "      <td>0</td>\n",
       "      <td>1</td>\n",
       "    </tr>\n",
       "    <tr>\n",
       "      <th>4449</th>\n",
       "      <td>Bug Juice: My Adventures at Camp</td>\n",
       "      <td>2018</td>\n",
       "      <td>7.2</td>\n",
       "      <td>0</td>\n",
       "      <td>0</td>\n",
       "      <td>0</td>\n",
       "      <td>1</td>\n",
       "    </tr>\n",
       "  </tbody>\n",
       "</table>\n",
       "<p>4450 rows × 7 columns</p>\n",
       "</div>"
      ],
      "text/plain": [
       "                                               Title  Year  IMDb  Netflix  \\\n",
       "0                                       Breaking Bad  2008   9.5        1   \n",
       "1                                    Stranger Things  2016   8.8        1   \n",
       "2                                        Money Heist  2017   8.4        1   \n",
       "3                                           Sherlock  2010   9.1        1   \n",
       "4                                   Better Call Saul  2015   8.7        1   \n",
       "...                                              ...   ...   ...      ...   \n",
       "4445  Billy Dilley's Super-Duper Subterranean Summer  2017   4.6        0   \n",
       "4446                    Rocky Mountain Animal Rescue  2018   7.8        0   \n",
       "4447                               Prairie Dog Manor  2019   8.6        0   \n",
       "4448              Disney Junior Music Nursery Rhymes  2017   6.6        0   \n",
       "4449                Bug Juice: My Adventures at Camp  2018   7.2        0   \n",
       "\n",
       "      Hulu  Prime Video  Disney+  \n",
       "0        0            0        0  \n",
       "1        0            0        0  \n",
       "2        0            0        0  \n",
       "3        0            0        0  \n",
       "4        0            0        0  \n",
       "...    ...          ...      ...  \n",
       "4445     0            0        1  \n",
       "4446     0            0        1  \n",
       "4447     0            0        1  \n",
       "4448     0            0        1  \n",
       "4449     0            0        1  \n",
       "\n",
       "[4450 rows x 7 columns]"
      ]
     },
     "execution_count": 2,
     "metadata": {},
     "output_type": "execute_result"
    }
   ],
   "source": [
    "tv = \"Cleaning_up_data/clean_tv.csv\"\n",
    "tv_df = pd.read_csv(tv)\n",
    "del tv_df['index']\n",
    "tv_df"
   ]
  },
  {
   "cell_type": "code",
   "execution_count": 3,
   "metadata": {},
   "outputs": [
    {
     "data": {
      "text/plain": [
       "<function matplotlib.pyplot.show(*args, **kw)>"
      ]
     },
     "execution_count": 3,
     "metadata": {},
     "output_type": "execute_result"
    },
    {
     "data": {
      "image/png": "[encoded data removed]",
      "text/plain": [
       "<Figure size 432x288 with 1 Axes>"
      ]
     },
     "metadata": {
      "needs_background": "light"
     },
     "output_type": "display_data"
    }
   ],
   "source": [
    "year = tv_df['Year']\n",
    "rating = tv_df['IMDb']\n",
    "plt.scatter(year, rating, facecolor = 'red', edgecolor = 'black')\n",
    "plt.ylabel('IMDb Rating')\n",
    "plt.xlabel('Release Year')\n",
    "plt.title('TV Ratings over Time')\n",
    "\n",
    "plt.savefig(\"PNG/tv_vs_time.png\")\n",
    "plt.show()"
   ]
  },
  {
   "cell_type": "code",
   "execution_count": 4,
   "metadata": {},
   "outputs": [],
   "source": [
    "sample_df = tv_df.sample(n=1000)"
   ]
  },
  {
   "cell_type": "code",
   "execution_count": 5,
   "metadata": {},
   "outputs": [
    {
     "data": {
      "image/png": "[encoded data removed]",
      "text/plain": [
       "<Figure size 432x288 with 1 Axes>"
      ]
     },
     "metadata": {
      "needs_background": "light"
     },
     "output_type": "display_data"
    }
   ],
   "source": [
    "year = sample_df['Year']\n",
    "rating = sample_df['IMDb']\n",
    "plt.scatter(year, rating, facecolor = 'red', edgecolor = 'black')\n",
    "plt.ylabel('IMDb Rating')\n",
    "plt.xlabel('Release Year')\n",
    "plt.title('1000 Sample TV Ratings over Time')\n",
    "\n",
    "plt.savefig(\"PNG/sampletv_vs_time.png\")\n",
    "\n",
    "plt.show()"
   ]
  },
  {
   "cell_type": "code",
   "execution_count": 6,
   "metadata": {},
   "outputs": [
    {
     "data": {
      "image/png": "[encoded data removed]",
      "text/plain": [
       "<Figure size 432x288 with 1 Axes>"
      ]
     },
     "metadata": {
      "needs_background": "light"
     },
     "output_type": "display_data"
    }
   ],
   "source": [
    "netflix_df = tv_df.loc[tv_df['Netflix'] == 1]\n",
    "netflix = (len(netflix_df))\n",
    "\n",
    "hulu_df = tv_df.loc[tv_df['Hulu'] == 1]\n",
    "hulu = (len(hulu_df))\n",
    "\n",
    "prime_df = tv_df.loc[tv_df['Prime Video'] == 1]\n",
    "prime = (len(prime_df))\n",
    "\n",
    "disney_df = tv_df.loc[tv_df['Disney+'] == 1]\n",
    "disney = (len(disney_df))\n",
    "\n",
    "count_df = pd.DataFrame({'Streaming Services': ['Netflix', 'Hulu', 'Amazon Prime', 'Disney+'],\n",
    "                         'Count': [netflix, hulu, prime, disney]}\n",
    "                       ).set_index('Streaming Services')\n",
    "count_df.plot(kind='bar', color = 'red')\n",
    "plt.ylabel(\"Number of TV Shows\")\n",
    "plt.title(\"TV Shows per Service\")\n",
    "plt.xticks(rotation=0)\n",
    "plt.legend().remove()\n",
    "\n",
    "plt.savefig(\"PNG/tv_per_service.png\")\n",
    "\n",
    "plt. show()"
   ]
  },
  {
   "cell_type": "code",
   "execution_count": 7,
   "metadata": {
    "scrolled": true
   },
   "outputs": [
    {
     "data": {
      "image/png": "[encoded data removed]",
      "text/plain": [
       "<Figure size 432x288 with 1 Axes>"
      ]
     },
     "metadata": {
      "needs_background": "light"
     },
     "output_type": "display_data"
    }
   ],
   "source": [
    "year_bin = [0, 1959, 1969, 1979, 1989, 1999, 2009, 2019, 2030]\n",
    "year_names = ['1950', '1960', '1970', '1980', '1990', '2000', '2010', '2020']\n",
    "\n",
    "netflix_year_df = netflix_df[['Title', 'Year']].reset_index(inplace=False)\n",
    "# netflix_year_df['Year'].value_counts()\n",
    "netflix_year_df['Decade'] = pd.cut(netflix_year_df['Year'], year_bin, labels=year_names, include_lowest=True)\n",
    "# netflix_year_df\n",
    "netflix_bar_df = netflix_year_df.groupby('Decade').count().reset_index(inplace=False)\n",
    "plt.bar(netflix_bar_df['Decade'],netflix_bar_df['Year'], color = 'red')\n",
    "plt.xlabel(\"Decades\")\n",
    "plt.ylabel(\"Number of TV Shows\")\n",
    "plt.title('Netflix TV Shows per Decade')\n",
    "\n",
    "plt.savefig('PNG/netflix_tv_decades.png')\n",
    "plt.show()"
   ]
  },
  {
   "cell_type": "code",
   "execution_count": 8,
   "metadata": {
    "scrolled": false
   },
   "outputs": [
    {
     "name": "stderr",
     "output_type": "stream",
     "text": [
      "C:\\Users\\oberm\\anaconda3\\lib\\site-packages\\ipykernel_launcher.py:1: SettingWithCopyWarning: \n",
      "A value is trying to be set on a copy of a slice from a DataFrame.\n",
      "Try using .loc[row_indexer,col_indexer] = value instead\n",
      "\n",
      "See the caveats in the documentation: https://pandas.pydata.org/pandas-docs/stable/user_guide/indexing.html#returning-a-view-versus-a-copy\n",
      "  \"\"\"Entry point for launching an IPython kernel.\n"
     ]
    },
    {
     "data": {
      "text/html": [
       "<div>\n",
       "<style scoped>\n",
       "    .dataframe tbody tr th:only-of-type {\n",
       "        vertical-align: middle;\n",
       "    }\n",
       "\n",
       "    .dataframe tbody tr th {\n",
       "        vertical-align: top;\n",
       "    }\n",
       "\n",
       "    .dataframe thead tr th {\n",
       "        text-align: left;\n",
       "    }\n",
       "\n",
       "    .dataframe thead tr:last-of-type th {\n",
       "        text-align: right;\n",
       "    }\n",
       "</style>\n",
       "<table border=\"1\" class=\"dataframe\">\n",
       "  <thead>\n",
       "    <tr>\n",
       "      <th></th>\n",
       "      <th colspan=\"3\" halign=\"left\">IMDb</th>\n",
       "    </tr>\n",
       "    <tr>\n",
       "      <th></th>\n",
       "      <th>mean</th>\n",
       "      <th>median</th>\n",
       "      <th>count</th>\n",
       "    </tr>\n",
       "    <tr>\n",
       "      <th>Decade</th>\n",
       "      <th></th>\n",
       "      <th></th>\n",
       "      <th></th>\n",
       "    </tr>\n",
       "  </thead>\n",
       "  <tbody>\n",
       "    <tr>\n",
       "      <th>1950</th>\n",
       "      <td>9.000000</td>\n",
       "      <td>9.00</td>\n",
       "      <td>1</td>\n",
       "    </tr>\n",
       "    <tr>\n",
       "      <th>1960</th>\n",
       "      <td>8.060000</td>\n",
       "      <td>8.30</td>\n",
       "      <td>5</td>\n",
       "    </tr>\n",
       "    <tr>\n",
       "      <th>1970</th>\n",
       "      <td>8.466667</td>\n",
       "      <td>8.50</td>\n",
       "      <td>3</td>\n",
       "    </tr>\n",
       "    <tr>\n",
       "      <th>1980</th>\n",
       "      <td>7.450000</td>\n",
       "      <td>7.75</td>\n",
       "      <td>18</td>\n",
       "    </tr>\n",
       "    <tr>\n",
       "      <th>1990</th>\n",
       "      <td>7.411429</td>\n",
       "      <td>7.90</td>\n",
       "      <td>35</td>\n",
       "    </tr>\n",
       "    <tr>\n",
       "      <th>2000</th>\n",
       "      <td>7.366864</td>\n",
       "      <td>7.60</td>\n",
       "      <td>169</td>\n",
       "    </tr>\n",
       "    <tr>\n",
       "      <th>2010</th>\n",
       "      <td>7.149253</td>\n",
       "      <td>7.30</td>\n",
       "      <td>1472</td>\n",
       "    </tr>\n",
       "    <tr>\n",
       "      <th>2020</th>\n",
       "      <td>6.812963</td>\n",
       "      <td>7.10</td>\n",
       "      <td>108</td>\n",
       "    </tr>\n",
       "  </tbody>\n",
       "</table>\n",
       "</div>"
      ],
      "text/plain": [
       "            IMDb             \n",
       "            mean median count\n",
       "Decade                       \n",
       "1950    9.000000   9.00     1\n",
       "1960    8.060000   8.30     5\n",
       "1970    8.466667   8.50     3\n",
       "1980    7.450000   7.75    18\n",
       "1990    7.411429   7.90    35\n",
       "2000    7.366864   7.60   169\n",
       "2010    7.149253   7.30  1472\n",
       "2020    6.812963   7.10   108"
      ]
     },
     "execution_count": 8,
     "metadata": {},
     "output_type": "execute_result"
    }
   ],
   "source": [
    "netflix_df['Decade'] = pd.cut(netflix_df['Year'], year_bin, labels=year_names, include_lowest=True)\n",
    "\n",
    "summary_netflix = netflix_df.groupby(['Decade']).agg({'IMDb': ['mean', 'median', 'count']})\n",
    "summary_netflix = summary_netflix.dropna(how='any')\n",
    "summary_netflix"
   ]
  },
  {
   "cell_type": "code",
   "execution_count": 9,
   "metadata": {},
   "outputs": [
    {
     "data": {
      "image/png": "[encoded data removed]",
      "text/plain": [
       "<Figure size 432x288 with 1 Axes>"
      ]
     },
     "metadata": {
      "needs_background": "light"
     },
     "output_type": "display_data"
    }
   ],
   "source": [
    "tick_locations = [0, 1, 2, 3, 4, 5, 6, 7]\n",
    "netflix_line = netflix_df.groupby(['Decade']).agg({'IMDb': ['mean']})\n",
    "netflix_line = netflix_line.dropna(how='any')\n",
    "netflix_line.plot(color = 'red')\n",
    "plt.xticks(tick_locations, year_names)\n",
    "plt.ylabel('IMDb Rating')\n",
    "plt.legend().remove()\n",
    "plt.title('Netflix')\n",
    "plt.savefig('PNG/netflix_ratings_time.png')\n",
    "plt.show()\n"
   ]
  },
  {
   "cell_type": "code",
   "execution_count": 10,
   "metadata": {
    "scrolled": true
   },
   "outputs": [
    {
     "data": {
      "image/png": "[encoded data removed]",
      "text/plain": [
       "<Figure size 432x288 with 1 Axes>"
      ]
     },
     "metadata": {
      "needs_background": "light"
     },
     "output_type": "display_data"
    }
   ],
   "source": [
    "year_bin = [0, 1939, 1949, 1959, 1969, 1979, 1989, 1999, 2009, 2019, 2030]\n",
    "year_names = ['1930', '1940', '1950', '1960', '1970', '1980', '1990', '2000', '2010', '2020']\n",
    "\n",
    "hulu_year_df = hulu_df[['Title', 'Year']].reset_index(inplace=False)\n",
    "# hulu_year_df['Year'].value_counts()\n",
    "hulu_year_df['Decade'] = pd.cut(hulu_year_df['Year'], year_bin, labels=year_names, include_lowest=True)\n",
    "# hulu_year_df\n",
    "hulu_bar_df = hulu_year_df.groupby('Decade').count().reset_index(inplace=False)\n",
    "\n",
    "plt.bar(hulu_bar_df['Decade'],hulu_bar_df['Year'], color = 'red')\n",
    "\n",
    "plt.xlabel(\"Decades\")\n",
    "plt.ylabel(\"Number of TV Shows\")\n",
    "plt.title('Hulu TV Shows per Decade')\n",
    "\n",
    "plt.savefig('PNG/hulu_tv_decades.png')\n",
    "plt.show()"
   ]
  },
  {
   "cell_type": "code",
   "execution_count": 11,
   "metadata": {
    "scrolled": false
   },
   "outputs": [
    {
     "name": "stderr",
     "output_type": "stream",
     "text": [
      "C:\\Users\\oberm\\anaconda3\\lib\\site-packages\\ipykernel_launcher.py:1: SettingWithCopyWarning: \n",
      "A value is trying to be set on a copy of a slice from a DataFrame.\n",
      "Try using .loc[row_indexer,col_indexer] = value instead\n",
      "\n",
      "See the caveats in the documentation: https://pandas.pydata.org/pandas-docs/stable/user_guide/indexing.html#returning-a-view-versus-a-copy\n",
      "  \"\"\"Entry point for launching an IPython kernel.\n"
     ]
    },
    {
     "data": {
      "text/html": [
       "<div>\n",
       "<style scoped>\n",
       "    .dataframe tbody tr th:only-of-type {\n",
       "        vertical-align: middle;\n",
       "    }\n",
       "\n",
       "    .dataframe tbody tr th {\n",
       "        vertical-align: top;\n",
       "    }\n",
       "\n",
       "    .dataframe thead tr th {\n",
       "        text-align: left;\n",
       "    }\n",
       "\n",
       "    .dataframe thead tr:last-of-type th {\n",
       "        text-align: right;\n",
       "    }\n",
       "</style>\n",
       "<table border=\"1\" class=\"dataframe\">\n",
       "  <thead>\n",
       "    <tr>\n",
       "      <th></th>\n",
       "      <th colspan=\"3\" halign=\"left\">IMDb</th>\n",
       "    </tr>\n",
       "    <tr>\n",
       "      <th></th>\n",
       "      <th>mean</th>\n",
       "      <th>median</th>\n",
       "      <th>count</th>\n",
       "    </tr>\n",
       "    <tr>\n",
       "      <th>Decade</th>\n",
       "      <th></th>\n",
       "      <th></th>\n",
       "      <th></th>\n",
       "    </tr>\n",
       "  </thead>\n",
       "  <tbody>\n",
       "    <tr>\n",
       "      <th>1930</th>\n",
       "      <td>8.600000</td>\n",
       "      <td>8.60</td>\n",
       "      <td>1</td>\n",
       "    </tr>\n",
       "    <tr>\n",
       "      <th>1940</th>\n",
       "      <td>6.950000</td>\n",
       "      <td>6.95</td>\n",
       "      <td>2</td>\n",
       "    </tr>\n",
       "    <tr>\n",
       "      <th>1950</th>\n",
       "      <td>7.950000</td>\n",
       "      <td>8.00</td>\n",
       "      <td>8</td>\n",
       "    </tr>\n",
       "    <tr>\n",
       "      <th>1960</th>\n",
       "      <td>7.284615</td>\n",
       "      <td>7.20</td>\n",
       "      <td>26</td>\n",
       "    </tr>\n",
       "    <tr>\n",
       "      <th>1970</th>\n",
       "      <td>7.178261</td>\n",
       "      <td>7.10</td>\n",
       "      <td>23</td>\n",
       "    </tr>\n",
       "    <tr>\n",
       "      <th>1980</th>\n",
       "      <td>7.308333</td>\n",
       "      <td>7.30</td>\n",
       "      <td>48</td>\n",
       "    </tr>\n",
       "    <tr>\n",
       "      <th>1990</th>\n",
       "      <td>7.300000</td>\n",
       "      <td>7.50</td>\n",
       "      <td>102</td>\n",
       "    </tr>\n",
       "    <tr>\n",
       "      <th>2000</th>\n",
       "      <td>7.111146</td>\n",
       "      <td>7.50</td>\n",
       "      <td>323</td>\n",
       "    </tr>\n",
       "    <tr>\n",
       "      <th>2010</th>\n",
       "      <td>7.000317</td>\n",
       "      <td>7.20</td>\n",
       "      <td>945</td>\n",
       "    </tr>\n",
       "    <tr>\n",
       "      <th>2020</th>\n",
       "      <td>6.756410</td>\n",
       "      <td>7.00</td>\n",
       "      <td>39</td>\n",
       "    </tr>\n",
       "  </tbody>\n",
       "</table>\n",
       "</div>"
      ],
      "text/plain": [
       "            IMDb             \n",
       "            mean median count\n",
       "Decade                       \n",
       "1930    8.600000   8.60     1\n",
       "1940    6.950000   6.95     2\n",
       "1950    7.950000   8.00     8\n",
       "1960    7.284615   7.20    26\n",
       "1970    7.178261   7.10    23\n",
       "1980    7.308333   7.30    48\n",
       "1990    7.300000   7.50   102\n",
       "2000    7.111146   7.50   323\n",
       "2010    7.000317   7.20   945\n",
       "2020    6.756410   7.00    39"
      ]
     },
     "execution_count": 11,
     "metadata": {},
     "output_type": "execute_result"
    }
   ],
   "source": [
    "hulu_df['Decade'] = pd.cut(hulu_df['Year'], year_bin, labels=year_names, include_lowest=True)\n",
    "\n",
    "summary_hulu = hulu_df.groupby(['Decade']).agg({'IMDb': ['mean', 'median', 'count']})\n",
    "summary_hulu = summary_hulu.dropna(how='any')\n",
    "summary_hulu"
   ]
  },
  {
   "cell_type": "code",
   "execution_count": 12,
   "metadata": {},
   "outputs": [
    {
     "data": {
      "image/png": "[encoded data removed]",
      "text/plain": [
       "<Figure size 432x288 with 1 Axes>"
      ]
     },
     "metadata": {
      "needs_background": "light"
     },
     "output_type": "display_data"
    }
   ],
   "source": [
    "tick_locations = [0, 1, 2, 3, 4, 5, 6, 7, 8, 9]\n",
    "hulu_line = hulu_df.groupby(['Decade']).agg({'IMDb': ['mean']})\n",
    "hulu_line = hulu_line.dropna(how='any')\n",
    "hulu_line.plot(color='red')\n",
    "plt.xticks(tick_locations, year_names)\n",
    "plt.ylabel('IMDb Rating')\n",
    "plt.legend().remove()\n",
    "plt.title('Hulu')\n",
    "plt.savefig('PNG/hulu_tv_decades.png')\n",
    "plt.show()"
   ]
  },
  {
   "cell_type": "code",
   "execution_count": 13,
   "metadata": {},
   "outputs": [
    {
     "data": {
      "image/png": "[encoded data removed]",
      "text/plain": [
       "<Figure size 432x288 with 1 Axes>"
      ]
     },
     "metadata": {
      "needs_background": "light"
     },
     "output_type": "display_data"
    }
   ],
   "source": [
    "year_bin = [0, 1949, 1959, 1969, 1979, 1989, 1999, 2009, 2019, 2030]\n",
    "year_names = ['1940', '1950', '1960', '1970', '1980', '1990', '2000', '2010', '2020']\n",
    "\n",
    "prime_year_df = prime_df[['Title', 'Year']].reset_index(inplace=False)\n",
    "#prime_year_df['Year'].value_counts()\n",
    "prime_year_df['Decade'] = pd.cut(prime_year_df['Year'], year_bin, labels=year_names, include_lowest=True)\n",
    "# prime_year_df\n",
    "prime_bar_df = prime_year_df.groupby('Decade').count().reset_index(inplace=False)\n",
    "plt.bar(prime_bar_df['Decade'],prime_bar_df['Year'], color = 'red')\n",
    "plt.xticks(rotation=90)\n",
    "\n",
    "plt.xlabel(\"Decades\")\n",
    "plt.ylabel(\"Number of TV Shows\")\n",
    "plt.title('Amazon Prime TV Shows per Decade')\n",
    "\n",
    "plt.savefig('PNG/prime_tv_decades.png')\n",
    "plt.show()"
   ]
  },
  {
   "cell_type": "code",
   "execution_count": 14,
   "metadata": {},
   "outputs": [
    {
     "name": "stderr",
     "output_type": "stream",
     "text": [
      "C:\\Users\\oberm\\anaconda3\\lib\\site-packages\\ipykernel_launcher.py:1: SettingWithCopyWarning: \n",
      "A value is trying to be set on a copy of a slice from a DataFrame.\n",
      "Try using .loc[row_indexer,col_indexer] = value instead\n",
      "\n",
      "See the caveats in the documentation: https://pandas.pydata.org/pandas-docs/stable/user_guide/indexing.html#returning-a-view-versus-a-copy\n",
      "  \"\"\"Entry point for launching an IPython kernel.\n"
     ]
    },
    {
     "data": {
      "text/html": [
       "<div>\n",
       "<style scoped>\n",
       "    .dataframe tbody tr th:only-of-type {\n",
       "        vertical-align: middle;\n",
       "    }\n",
       "\n",
       "    .dataframe tbody tr th {\n",
       "        vertical-align: top;\n",
       "    }\n",
       "\n",
       "    .dataframe thead tr th {\n",
       "        text-align: left;\n",
       "    }\n",
       "\n",
       "    .dataframe thead tr:last-of-type th {\n",
       "        text-align: right;\n",
       "    }\n",
       "</style>\n",
       "<table border=\"1\" class=\"dataframe\">\n",
       "  <thead>\n",
       "    <tr>\n",
       "      <th></th>\n",
       "      <th colspan=\"3\" halign=\"left\">IMDb</th>\n",
       "    </tr>\n",
       "    <tr>\n",
       "      <th></th>\n",
       "      <th>mean</th>\n",
       "      <th>median</th>\n",
       "      <th>count</th>\n",
       "    </tr>\n",
       "    <tr>\n",
       "      <th>Decade</th>\n",
       "      <th></th>\n",
       "      <th></th>\n",
       "      <th></th>\n",
       "    </tr>\n",
       "  </thead>\n",
       "  <tbody>\n",
       "    <tr>\n",
       "      <th>1940</th>\n",
       "      <td>7.450000</td>\n",
       "      <td>7.45</td>\n",
       "      <td>2</td>\n",
       "    </tr>\n",
       "    <tr>\n",
       "      <th>1950</th>\n",
       "      <td>7.440741</td>\n",
       "      <td>7.50</td>\n",
       "      <td>27</td>\n",
       "    </tr>\n",
       "    <tr>\n",
       "      <th>1960</th>\n",
       "      <td>7.717857</td>\n",
       "      <td>7.65</td>\n",
       "      <td>28</td>\n",
       "    </tr>\n",
       "    <tr>\n",
       "      <th>1970</th>\n",
       "      <td>7.010526</td>\n",
       "      <td>7.00</td>\n",
       "      <td>19</td>\n",
       "    </tr>\n",
       "    <tr>\n",
       "      <th>1980</th>\n",
       "      <td>7.468852</td>\n",
       "      <td>7.50</td>\n",
       "      <td>61</td>\n",
       "    </tr>\n",
       "    <tr>\n",
       "      <th>1990</th>\n",
       "      <td>7.309016</td>\n",
       "      <td>7.40</td>\n",
       "      <td>122</td>\n",
       "    </tr>\n",
       "    <tr>\n",
       "      <th>2000</th>\n",
       "      <td>7.058991</td>\n",
       "      <td>7.30</td>\n",
       "      <td>317</td>\n",
       "    </tr>\n",
       "    <tr>\n",
       "      <th>2010</th>\n",
       "      <td>7.160364</td>\n",
       "      <td>7.30</td>\n",
       "      <td>714</td>\n",
       "    </tr>\n",
       "    <tr>\n",
       "      <th>2020</th>\n",
       "      <td>7.141176</td>\n",
       "      <td>7.40</td>\n",
       "      <td>17</td>\n",
       "    </tr>\n",
       "  </tbody>\n",
       "</table>\n",
       "</div>"
      ],
      "text/plain": [
       "            IMDb             \n",
       "            mean median count\n",
       "Decade                       \n",
       "1940    7.450000   7.45     2\n",
       "1950    7.440741   7.50    27\n",
       "1960    7.717857   7.65    28\n",
       "1970    7.010526   7.00    19\n",
       "1980    7.468852   7.50    61\n",
       "1990    7.309016   7.40   122\n",
       "2000    7.058991   7.30   317\n",
       "2010    7.160364   7.30   714\n",
       "2020    7.141176   7.40    17"
      ]
     },
     "execution_count": 14,
     "metadata": {},
     "output_type": "execute_result"
    }
   ],
   "source": [
    "prime_df[\"Decade\"] = pd.cut(prime_df['Year'], year_bin, labels=year_names, include_lowest=True)\n",
    "\n",
    "summary_prime = prime_df.groupby(['Decade']).agg({'IMDb': ['mean', 'median', 'count']})\n",
    "summary_prime = summary_prime.dropna(how='any')\n",
    "summary_prime"
   ]
  },
  {
   "cell_type": "code",
   "execution_count": 15,
   "metadata": {},
   "outputs": [
    {
     "data": {
      "image/png": "[encoded data removed]",
      "text/plain": [
       "<Figure size 432x288 with 1 Axes>"
      ]
     },
     "metadata": {
      "needs_background": "light"
     },
     "output_type": "display_data"
    }
   ],
   "source": [
    "tick_locations = [0, 1, 2, 3, 4, 5, 6, 7, 8, 9]\n",
    "prime_line = prime_df.groupby(['Decade']).agg({'IMDb': ['mean']})\n",
    "prime_line = prime_line.dropna(how='any')\n",
    "prime_line.plot(color='red')\n",
    "plt.xticks(tick_locations, year_names)\n",
    "plt.ylabel('IMDb Rating')\n",
    "plt.legend().remove()\n",
    "plt.title('Amazon Prime')\n",
    "plt.savefig('PNG/prime_tv_decades.png')\n",
    "plt.show()"
   ]
  },
  {
   "cell_type": "code",
   "execution_count": 16,
   "metadata": {
    "scrolled": true
   },
   "outputs": [
    {
     "data": {
      "image/png": "[encoded data removed]",
      "text/plain": [
       "<Figure size 432x288 with 1 Axes>"
      ]
     },
     "metadata": {
      "needs_background": "light"
     },
     "output_type": "display_data"
    }
   ],
   "source": [
    "year_bin = [0, 1959, 1969, 1979, 1989, 1999, 2009, 2019, 2030]\n",
    "year_names = ['1950', '1960', '1970', '1980', '1990', '2000', '2010', '2020']\n",
    "\n",
    "disney_year_df = disney_df[['Title', 'Year']].reset_index(inplace=False)\n",
    "#disney_year_df['Year'].value_counts()\n",
    "disney_year_df['Decade'] = pd.cut(disney_year_df['Year'], year_bin, labels=year_names, include_lowest=True)\n",
    "# disney_year_df\n",
    "disney_bar_df = disney_year_df.groupby('Decade').count().reset_index(inplace=False)\n",
    "plt.bar(disney_bar_df['Decade'],disney_bar_df['Year'], color = 'red')\n",
    "\n",
    "plt.xlabel(\"Decades\")\n",
    "plt.ylabel(\"Number of TV Shows\")\n",
    "plt.title('Disney TV Shows per Decade')\n",
    "\n",
    "plt.savefig('PNG/disney_tv_decades.png')\n",
    "plt.show()"
   ]
  },
  {
   "cell_type": "code",
   "execution_count": 17,
   "metadata": {},
   "outputs": [
    {
     "name": "stderr",
     "output_type": "stream",
     "text": [
      "C:\\Users\\oberm\\anaconda3\\lib\\site-packages\\ipykernel_launcher.py:1: SettingWithCopyWarning: \n",
      "A value is trying to be set on a copy of a slice from a DataFrame.\n",
      "Try using .loc[row_indexer,col_indexer] = value instead\n",
      "\n",
      "See the caveats in the documentation: https://pandas.pydata.org/pandas-docs/stable/user_guide/indexing.html#returning-a-view-versus-a-copy\n",
      "  \"\"\"Entry point for launching an IPython kernel.\n"
     ]
    },
    {
     "data": {
      "text/html": [
       "<div>\n",
       "<style scoped>\n",
       "    .dataframe tbody tr th:only-of-type {\n",
       "        vertical-align: middle;\n",
       "    }\n",
       "\n",
       "    .dataframe tbody tr th {\n",
       "        vertical-align: top;\n",
       "    }\n",
       "\n",
       "    .dataframe thead tr th {\n",
       "        text-align: left;\n",
       "    }\n",
       "\n",
       "    .dataframe thead tr:last-of-type th {\n",
       "        text-align: right;\n",
       "    }\n",
       "</style>\n",
       "<table border=\"1\" class=\"dataframe\">\n",
       "  <thead>\n",
       "    <tr>\n",
       "      <th></th>\n",
       "      <th colspan=\"3\" halign=\"left\">IMDb</th>\n",
       "    </tr>\n",
       "    <tr>\n",
       "      <th></th>\n",
       "      <th>mean</th>\n",
       "      <th>median</th>\n",
       "      <th>count</th>\n",
       "    </tr>\n",
       "    <tr>\n",
       "      <th>Decade</th>\n",
       "      <th></th>\n",
       "      <th></th>\n",
       "      <th></th>\n",
       "    </tr>\n",
       "  </thead>\n",
       "  <tbody>\n",
       "    <tr>\n",
       "      <th>1950</th>\n",
       "      <td>8.200000</td>\n",
       "      <td>8.2</td>\n",
       "      <td>1</td>\n",
       "    </tr>\n",
       "    <tr>\n",
       "      <th>1970</th>\n",
       "      <td>5.700000</td>\n",
       "      <td>5.7</td>\n",
       "      <td>1</td>\n",
       "    </tr>\n",
       "    <tr>\n",
       "      <th>1980</th>\n",
       "      <td>7.557143</td>\n",
       "      <td>7.6</td>\n",
       "      <td>7</td>\n",
       "    </tr>\n",
       "    <tr>\n",
       "      <th>1990</th>\n",
       "      <td>7.222727</td>\n",
       "      <td>7.1</td>\n",
       "      <td>22</td>\n",
       "    </tr>\n",
       "    <tr>\n",
       "      <th>2000</th>\n",
       "      <td>6.603333</td>\n",
       "      <td>6.5</td>\n",
       "      <td>30</td>\n",
       "    </tr>\n",
       "    <tr>\n",
       "      <th>2010</th>\n",
       "      <td>6.891089</td>\n",
       "      <td>7.0</td>\n",
       "      <td>101</td>\n",
       "    </tr>\n",
       "    <tr>\n",
       "      <th>2020</th>\n",
       "      <td>7.185714</td>\n",
       "      <td>7.2</td>\n",
       "      <td>7</td>\n",
       "    </tr>\n",
       "  </tbody>\n",
       "</table>\n",
       "</div>"
      ],
      "text/plain": [
       "            IMDb             \n",
       "            mean median count\n",
       "Decade                       \n",
       "1950    8.200000    8.2     1\n",
       "1970    5.700000    5.7     1\n",
       "1980    7.557143    7.6     7\n",
       "1990    7.222727    7.1    22\n",
       "2000    6.603333    6.5    30\n",
       "2010    6.891089    7.0   101\n",
       "2020    7.185714    7.2     7"
      ]
     },
     "execution_count": 17,
     "metadata": {},
     "output_type": "execute_result"
    }
   ],
   "source": [
    "disney_df[\"Decade\"] = pd.cut(disney_df['Year'], year_bin, labels=year_names, include_lowest=True)\n",
    "\n",
    "summary_disney = disney_df.groupby(['Decade']).agg({'IMDb': ['mean', 'median', 'count']})\n",
    "summary_disney = summary_disney.dropna(how='any')\n",
    "summary_disney"
   ]
  },
  {
   "cell_type": "code",
   "execution_count": 18,
   "metadata": {},
   "outputs": [
    {
     "data": {
      "image/png": "[encoded data removed]",
      "text/plain": [
       "<Figure size 432x288 with 1 Axes>"
      ]
     },
     "metadata": {
      "needs_background": "light"
     },
     "output_type": "display_data"
    }
   ],
   "source": [
    "tick_locations = [0, 1, 2, 3, 4, 5, 6, 7]\n",
    "year_names = ['1950', '1970', '1980', '1990', '2000', '2010', '2020']\n",
    "disney_line = disney_df.groupby(['Decade']).agg({'IMDb': ['mean']})\n",
    "disney_line = disney_line.dropna(how='any')\n",
    "disney_line.plot(color='red')\n",
    "plt.xticks(tick_locations, year_names)\n",
    "plt.ylabel('IMDb Rating')\n",
    "plt.legend().remove()\n",
    "plt.title('Disney+')\n",
    "plt.savefig('PNG/disney_tv_decades.png')\n",
    "plt.show()"
   ]
  },
  {
   "cell_type": "code",
   "execution_count": 19,
   "metadata": {},
   "outputs": [
    {
     "data": {
      "image/png": "[encoded data removed]",
      "text/plain": [
       "<Figure size 432x288 with 1 Axes>"
      ]
     },
     "metadata": {
      "needs_background": "light"
     },
     "output_type": "display_data"
    }
   ],
   "source": [
    "top_netflix = netflix_df.loc[netflix_df['IMDb']>8]\n",
    "tnetflix = (len(top_netflix))\n",
    "\n",
    "top_hulu = hulu_df.loc[hulu_df['IMDb']>8]\n",
    "thulu = (len(top_hulu))\n",
    "\n",
    "top_prime = prime_df.loc[prime_df['IMDb']>8]\n",
    "tprime = (len(top_prime))\n",
    "\n",
    "top_disney = disney_df.loc[disney_df['IMDb']>8]\n",
    "tdisney = (len(top_disney))\n",
    "\n",
    "count_df = pd.DataFrame({'Streaming Services': ['Netflix', 'Hulu', 'Amazon Prime', 'Disney+'],\n",
    "                         'Count': [tnetflix, thulu, tprime, tdisney]}\n",
    "                       ).set_index('Streaming Services')\n",
    "count_df.plot(kind='bar', color = 'red')\n",
    "\n",
    "plt.ylabel(\"Number of TV Shows\")\n",
    "plt.title('Top TV Shows per Streaming Platform by IMDb Rating > 8')\n",
    "\n",
    "plt.xticks(rotation=0)\n",
    "\n",
    "plt.savefig('PNG/top_tv_per_service.png')\n",
    "plt.show()"
   ]
  }
 ],
 "metadata": {
  "kernelspec": {
   "display_name": "Python [conda env:root] *",
   "language": "python",
   "name": "conda-root-py"
  },
  "language_info": {
   "codemirror_mode": {
    "name": "ipython",
    "version": 3
   },
   "file_extension": ".py",
   "mimetype": "text/x-python",
   "name": "python",
   "nbconvert_exporter": "python",
   "pygments_lexer": "ipython3",
   "version": "3.7.6"
  }
 },
 "nbformat": 4,
 "nbformat_minor": 4
}
