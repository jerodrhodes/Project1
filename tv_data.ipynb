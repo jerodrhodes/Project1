{
 "cells": [
  {
   "cell_type": "code",
   "execution_count": 2,
   "metadata": {},
   "outputs": [],
   "source": [
    "import pandas as pd\n",
    "from pprint import pprint\n",
    "import matplotlib.pyplot as plt\n",
    "import random"
   ]
  },
  {
   "cell_type": "code",
   "execution_count": 4,
   "metadata": {},
   "outputs": [
    {
     "data": {
      "text/html": [
       "<div>\n",
       "<style scoped>\n",
       "    .dataframe tbody tr th:only-of-type {\n",
       "        vertical-align: middle;\n",
       "    }\n",
       "\n",
       "    .dataframe tbody tr th {\n",
       "        vertical-align: top;\n",
       "    }\n",
       "\n",
       "    .dataframe thead th {\n",
       "        text-align: right;\n",
       "    }\n",
       "</style>\n",
       "<table border=\"1\" class=\"dataframe\">\n",
       "  <thead>\n",
       "    <tr style=\"text-align: right;\">\n",
       "      <th></th>\n",
       "      <th>Title</th>\n",
       "      <th>Year</th>\n",
       "      <th>IMDb</th>\n",
       "      <th>Netflix</th>\n",
       "      <th>Hulu</th>\n",
       "      <th>Prime Video</th>\n",
       "      <th>Disney+</th>\n",
       "    </tr>\n",
       "  </thead>\n",
       "  <tbody>\n",
       "    <tr>\n",
       "      <th>0</th>\n",
       "      <td>Breaking Bad</td>\n",
       "      <td>2008</td>\n",
       "      <td>9.5</td>\n",
       "      <td>1</td>\n",
       "      <td>0</td>\n",
       "      <td>0</td>\n",
       "      <td>0</td>\n",
       "    </tr>\n",
       "    <tr>\n",
       "      <th>1</th>\n",
       "      <td>Stranger Things</td>\n",
       "      <td>2016</td>\n",
       "      <td>8.8</td>\n",
       "      <td>1</td>\n",
       "      <td>0</td>\n",
       "      <td>0</td>\n",
       "      <td>0</td>\n",
       "    </tr>\n",
       "    <tr>\n",
       "      <th>2</th>\n",
       "      <td>Money Heist</td>\n",
       "      <td>2017</td>\n",
       "      <td>8.4</td>\n",
       "      <td>1</td>\n",
       "      <td>0</td>\n",
       "      <td>0</td>\n",
       "      <td>0</td>\n",
       "    </tr>\n",
       "    <tr>\n",
       "      <th>3</th>\n",
       "      <td>Sherlock</td>\n",
       "      <td>2010</td>\n",
       "      <td>9.1</td>\n",
       "      <td>1</td>\n",
       "      <td>0</td>\n",
       "      <td>0</td>\n",
       "      <td>0</td>\n",
       "    </tr>\n",
       "    <tr>\n",
       "      <th>4</th>\n",
       "      <td>Better Call Saul</td>\n",
       "      <td>2015</td>\n",
       "      <td>8.7</td>\n",
       "      <td>1</td>\n",
       "      <td>0</td>\n",
       "      <td>0</td>\n",
       "      <td>0</td>\n",
       "    </tr>\n",
       "    <tr>\n",
       "      <th>...</th>\n",
       "      <td>...</td>\n",
       "      <td>...</td>\n",
       "      <td>...</td>\n",
       "      <td>...</td>\n",
       "      <td>...</td>\n",
       "      <td>...</td>\n",
       "      <td>...</td>\n",
       "    </tr>\n",
       "    <tr>\n",
       "      <th>4445</th>\n",
       "      <td>Billy Dilley's Super-Duper Subterranean Summer</td>\n",
       "      <td>2017</td>\n",
       "      <td>4.6</td>\n",
       "      <td>0</td>\n",
       "      <td>0</td>\n",
       "      <td>0</td>\n",
       "      <td>1</td>\n",
       "    </tr>\n",
       "    <tr>\n",
       "      <th>4446</th>\n",
       "      <td>Rocky Mountain Animal Rescue</td>\n",
       "      <td>2018</td>\n",
       "      <td>7.8</td>\n",
       "      <td>0</td>\n",
       "      <td>0</td>\n",
       "      <td>0</td>\n",
       "      <td>1</td>\n",
       "    </tr>\n",
       "    <tr>\n",
       "      <th>4447</th>\n",
       "      <td>Prairie Dog Manor</td>\n",
       "      <td>2019</td>\n",
       "      <td>8.6</td>\n",
       "      <td>0</td>\n",
       "      <td>0</td>\n",
       "      <td>0</td>\n",
       "      <td>1</td>\n",
       "    </tr>\n",
       "    <tr>\n",
       "      <th>4448</th>\n",
       "      <td>Disney Junior Music Nursery Rhymes</td>\n",
       "      <td>2017</td>\n",
       "      <td>6.6</td>\n",
       "      <td>0</td>\n",
       "      <td>0</td>\n",
       "      <td>0</td>\n",
       "      <td>1</td>\n",
       "    </tr>\n",
       "    <tr>\n",
       "      <th>4449</th>\n",
       "      <td>Bug Juice: My Adventures at Camp</td>\n",
       "      <td>2018</td>\n",
       "      <td>7.2</td>\n",
       "      <td>0</td>\n",
       "      <td>0</td>\n",
       "      <td>0</td>\n",
       "      <td>1</td>\n",
       "    </tr>\n",
       "  </tbody>\n",
       "</table>\n",
       "<p>4450 rows × 7 columns</p>\n",
       "</div>"
      ],
      "text/plain": [
       "                                               Title  Year  IMDb  Netflix  \\\n",
       "0                                       Breaking Bad  2008   9.5        1   \n",
       "1                                    Stranger Things  2016   8.8        1   \n",
       "2                                        Money Heist  2017   8.4        1   \n",
       "3                                           Sherlock  2010   9.1        1   \n",
       "4                                   Better Call Saul  2015   8.7        1   \n",
       "...                                              ...   ...   ...      ...   \n",
       "4445  Billy Dilley's Super-Duper Subterranean Summer  2017   4.6        0   \n",
       "4446                    Rocky Mountain Animal Rescue  2018   7.8        0   \n",
       "4447                               Prairie Dog Manor  2019   8.6        0   \n",
       "4448              Disney Junior Music Nursery Rhymes  2017   6.6        0   \n",
       "4449                Bug Juice: My Adventures at Camp  2018   7.2        0   \n",
       "\n",
       "      Hulu  Prime Video  Disney+  \n",
       "0        0            0        0  \n",
       "1        0            0        0  \n",
       "2        0            0        0  \n",
       "3        0            0        0  \n",
       "4        0            0        0  \n",
       "...    ...          ...      ...  \n",
       "4445     0            0        1  \n",
       "4446     0            0        1  \n",
       "4447     0            0        1  \n",
       "4448     0            0        1  \n",
       "4449     0            0        1  \n",
       "\n",
       "[4450 rows x 7 columns]"
      ]
     },
     "execution_count": 4,
     "metadata": {},
     "output_type": "execute_result"
    }
   ],
   "source": [
    "tv = \"Cleaning_up_data/clean_tv.csv\"\n",
    "tv_df = pd.read_csv(tv)\n",
    "del tv_df['index']\n",
    "tv_df"
   ]
  },
  {
   "cell_type": "code",
   "execution_count": 6,
   "metadata": {},
   "outputs": [
    {
     "data": {
      "text/plain": [
       "<function matplotlib.pyplot.show(*args, **kw)>"
      ]
     },
     "execution_count": 6,
     "metadata": {},
     "output_type": "execute_result"
    },
    {
     "data": {
      "image/png": "[encoded data removed]",
      "text/plain": [
       "<Figure size 432x288 with 1 Axes>"
      ]
     },
     "metadata": {
      "needs_background": "light"
     },
     "output_type": "display_data"
    }
   ],
   "source": [
    "year = tv_df['Year']\n",
    "rating = tv_df['IMDb']\n",
    "plt.scatter(year, rating, facecolor = 'red', edgecolor = 'black')\n",
    "plt.ylabel('IMDb Rating')\n",
    "plt.xlabel('Release Year')\n",
    "\n",
    "plt.savefig(\"../output_data/lat_vs_wind.png\")\n",
    "plt.show"
   ]
  },
  {
   "cell_type": "code",
   "execution_count": 6,
   "metadata": {},
   "outputs": [],
   "source": [
    "sample_df = tv_df.sample(n=1000)"
   ]
  },
  {
   "cell_type": "code",
   "execution_count": 7,
   "metadata": {},
   "outputs": [
    {
     "data": {
      "text/plain": [
       "Text(0.5, 0, 'Release Year')"
      ]
     },
     "execution_count": 7,
     "metadata": {},
     "output_type": "execute_result"
    },
    {
     "data": {
      "image/png": "[encoded data removed]",
      "text/plain": [
       "<Figure size 432x288 with 1 Axes>"
      ]
     },
     "metadata": {
      "needs_background": "light"
     },
     "output_type": "display_data"
    }
   ],
   "source": [
    "year = sample_df['Year']\n",
    "rating = sample_df['IMDb']\n",
    "plt.scatter(year, rating)\n",
    "plt.ylabel('IMDb Rating')\n",
    "plt.xlabel('Release Year')"
   ]
  },
  {
   "cell_type": "code",
   "execution_count": 8,
   "metadata": {},
   "outputs": [
    {
     "data": {
      "text/plain": [
       "<matplotlib.axes._subplots.AxesSubplot at 0x17e6f6b97c8>"
      ]
     },
     "execution_count": 8,
     "metadata": {},
     "output_type": "execute_result"
    },
    {
     "data": {
      "image/png": "[encoded data removed]",
      "text/plain": [
       "<Figure size 432x288 with 1 Axes>"
      ]
     },
     "metadata": {
      "needs_background": "light"
     },
     "output_type": "display_data"
    }
   ],
   "source": [
    "netflix_df = tv_df.loc[tv_df['Netflix'] == 1]\n",
    "netflix = (len(netflix_df))\n",
    "\n",
    "hulu_df = tv_df.loc[tv_df['Hulu'] == 1]\n",
    "hulu = (len(hulu_df))\n",
    "\n",
    "prime_df = tv_df.loc[tv_df['Prime Video'] == 1]\n",
    "prime = (len(prime_df))\n",
    "\n",
    "disney_df = tv_df.loc[tv_df['Disney+'] == 1]\n",
    "disney = (len(disney_df))\n",
    "\n",
    "count_df = pd.DataFrame({'Streaming Services': ['Netflix', 'Hulu', 'Amazon Prime', 'Disney+'],\n",
    "                         'Count': [netflix, hulu, prime, disney]}\n",
    "                       ).set_index('Streaming Services')\n",
    "count_df.plot(kind='bar')"
   ]
  },
  {
   "cell_type": "code",
   "execution_count": 14,
   "metadata": {
    "scrolled": true
   },
   "outputs": [
    {
     "data": {
      "text/plain": [
       "<BarContainer object of 8 artists>"
      ]
     },
     "execution_count": 14,
     "metadata": {},
     "output_type": "execute_result"
    },
    {
     "data": {
      "image/png": "[encoded data removed]",
      "text/plain": [
       "<Figure size 432x288 with 1 Axes>"
      ]
     },
     "metadata": {
      "needs_background": "light"
     },
     "output_type": "display_data"
    }
   ],
   "source": [
    "year_bin = [0, 1959, 1969, 1979, 1989, 1999, 2009, 2019, 2030]\n",
    "year_names = ['1950', '1960', '1970', '1980', '1990', '2000', '2010', '2020']\n",
    "\n",
    "netflix_year_df = netflix_df[['Title', 'Year']].reset_index(inplace=False)\n",
    "# netflix_year_df['Year'].value_counts()\n",
    "netflix_year_df['Decade'] = pd.cut(netflix_year_df['Year'], year_bin, labels=year_names, include_lowest=True)\n",
    "netflix_bar_df = netflix_year_df.groupby('Decade').count().reset_index(inplace=False)\n",
    "plt.bar(netflix_bar_df['Decade'],netflix_bar_df['Year'])"
   ]
  },
  {
   "cell_type": "code",
   "execution_count": 16,
   "metadata": {
    "scrolled": true
   },
   "outputs": [
    {
     "data": {
      "text/plain": [
       "<BarContainer object of 10 artists>"
      ]
     },
     "execution_count": 16,
     "metadata": {},
     "output_type": "execute_result"
    },
    {
     "data": {
      "image/png": "[encoded data removed]",
      "text/plain": [
       "<Figure size 432x288 with 1 Axes>"
      ]
     },
     "metadata": {
      "needs_background": "light"
     },
     "output_type": "display_data"
    }
   ],
   "source": [
    "year_bin = [0,1939, 1949, 1959, 1969, 1979, 1989, 1999, 2009, 2019, 2030]\n",
    "year_names = ['1930', '1940', '1950', '1960', '1970', '1980', '1990', '2000', '2010', '2020']\n",
    "\n",
    "hulu_year_df = hulu_df[['Title', 'Year']].reset_index(inplace=False)\n",
    "# hulu_year_df['Year'].value_counts()\n",
    "hulu_year_df['Decade'] = pd.cut(hulu_year_df['Year'], year_bin, labels=year_names, include_lowest=True)\n",
    "hulu_year_df = hulu_year_df.groupby('Decade').count().reset_index(inplace=False)\n",
    "plt.bar(hulu_year_df['Decade'],hulu_year_df['Year'])"
   ]
  },
  {
   "cell_type": "code",
   "execution_count": 19,
   "metadata": {},
   "outputs": [
    {
     "data": {
      "text/plain": [
       "([0, 1, 2, 3, 4, 5, 6, 7, 8], <a list of 9 Text xticklabel objects>)"
      ]
     },
     "execution_count": 19,
     "metadata": {},
     "output_type": "execute_result"
    },
    {
     "data": {
      "image/png": "[encoded data removed]",
      "text/plain": [
       "<Figure size 432x288 with 1 Axes>"
      ]
     },
     "metadata": {
      "needs_background": "light"
     },
     "output_type": "display_data"
    }
   ],
   "source": [
    "year_bin = [0, 1949, 1959, 1969, 1979, 1989, 1999, 2009, 2019, 2030]\n",
    "year_names = ['1940', '1950', '1960', '1970', '1980', '1990', '2000', '2010', '2020']\n",
    "\n",
    "prime_year_df = prime_df[['Title', 'Year']].reset_index(inplace=False)\n",
    "#prime_year_df['Year'].value_counts()\n",
    "prime_year_df['Decade'] = pd.cut(prime_year_df['Year'], year_bin, labels=year_names, include_lowest=True)\n",
    "prime_year_df = prime_year_df.groupby('Decade').count().reset_index(inplace=False)\n",
    "plt.bar(prime_year_df['Decade'],prime_year_df['Year'])\n",
    "plt.xticks(rotation=90)"
   ]
  },
  {
   "cell_type": "code",
   "execution_count": 21,
   "metadata": {
    "scrolled": true
   },
   "outputs": [
    {
     "data": {
      "text/plain": [
       "<BarContainer object of 8 artists>"
      ]
     },
     "execution_count": 21,
     "metadata": {},
     "output_type": "execute_result"
    },
    {
     "data": {
      "image/png": "[encoded data removed]",
      "text/plain": [
       "<Figure size 432x288 with 1 Axes>"
      ]
     },
     "metadata": {
      "needs_background": "light"
     },
     "output_type": "display_data"
    }
   ],
   "source": [
    "year_bin = [0, 1959, 1969, 1979, 1989, 1999, 2009, 2019, 2030]\n",
    "year_names = ['1950', '1960', '1970', '1980', '1990', '2000', '2010', '2020']\n",
    "\n",
    "disney_year_df = disney_df[['Title', 'Year']].reset_index(inplace=False)\n",
    "#disney_year_df['Year'].value_counts()\n",
    "disney_year_df['Decade'] = pd.cut(disney_year_df['Year'], year_bin, labels=year_names, include_lowest=True)\n",
    "disney_year_df = disney_year_df.groupby('Decade').count().reset_index(inplace=False)\n",
    "plt.bar(disney_year_df['Decade'],disney_year_df['Year'])"
   ]
  },
  {
   "cell_type": "code",
   "execution_count": 29,
   "metadata": {},
   "outputs": [
    {
     "data": {
      "text/plain": [
       "<matplotlib.axes._subplots.AxesSubplot at 0x17e70e384c8>"
      ]
     },
     "execution_count": 29,
     "metadata": {},
     "output_type": "execute_result"
    },
    {
     "data": {
      "image/png": "[encoded data removed]",
      "text/plain": [
       "<Figure size 432x288 with 1 Axes>"
      ]
     },
     "metadata": {
      "needs_background": "light"
     },
     "output_type": "display_data"
    }
   ],
   "source": [
    "top_netflix = netflix_df.loc[netflix_df['IMDb']>8]\n",
    "tnetflix = (len(top_netflix))\n",
    "\n",
    "top_hulu = hulu_df.loc[hulu_df['IMDb']>8]\n",
    "thulu = (len(top_hulu))\n",
    "\n",
    "top_prime = prime_df.loc[prime_df['IMDb']>8]\n",
    "tprime = (len(top_prime))\n",
    "\n",
    "top_disney = disney_df.loc[disney_df['IMDb']>8]\n",
    "tdisney = (len(top_disney))\n",
    "\n",
    "count_df = pd.DataFrame({'Streaming Services': ['Netflix', 'Hulu', 'Amazon Prime', 'Disney+'],\n",
    "                         'Count': [tnetflix, thulu, tprime, tdisney]}\n",
    "                       ).set_index('Streaming Services')\n",
    "count_df.plot(kind='bar')"
   ]
  }
 ],
 "metadata": {
  "kernelspec": {
   "display_name": "Python [conda env:root]",
   "language": "python",
   "name": "conda-root-py"
  },
  "language_info": {
   "codemirror_mode": {
    "name": "ipython",
    "version": 3
   },
   "file_extension": ".py",
   "mimetype": "text/x-python",
   "name": "python",
   "nbconvert_exporter": "python",
   "pygments_lexer": "ipython3",
   "version": "3.7.6"
  }
 },
 "nbformat": 4,
 "nbformat_minor": 4
}
