{
 "cells": [
  {
   "cell_type": "code",
   "execution_count": 3,
   "metadata": {},
   "outputs": [],
   "source": [
    "import pandas as pd\n",
    "from pprint import pprint\n",
    "import matplotlib.pyplot as plt\n",
    "import random"
   ]
  },
  {
   "cell_type": "code",
   "execution_count": 4,
   "metadata": {
    "scrolled": true
   },
   "outputs": [
    {
     "data": {
      "text/html": [
       "<div>\n",
       "<style scoped>\n",
       "    .dataframe tbody tr th:only-of-type {\n",
       "        vertical-align: middle;\n",
       "    }\n",
       "\n",
       "    .dataframe tbody tr th {\n",
       "        vertical-align: top;\n",
       "    }\n",
       "\n",
       "    .dataframe thead th {\n",
       "        text-align: right;\n",
       "    }\n",
       "</style>\n",
       "<table border=\"1\" class=\"dataframe\">\n",
       "  <thead>\n",
       "    <tr style=\"text-align: right;\">\n",
       "      <th></th>\n",
       "      <th>Title</th>\n",
       "      <th>Year</th>\n",
       "      <th>IMDb</th>\n",
       "      <th>Netflix</th>\n",
       "      <th>Hulu</th>\n",
       "      <th>Prime Video</th>\n",
       "      <th>Disney+</th>\n",
       "      <th>Directors</th>\n",
       "    </tr>\n",
       "  </thead>\n",
       "  <tbody>\n",
       "    <tr>\n",
       "      <th>0</th>\n",
       "      <td>Inception</td>\n",
       "      <td>2010</td>\n",
       "      <td>8.8</td>\n",
       "      <td>1</td>\n",
       "      <td>0</td>\n",
       "      <td>0</td>\n",
       "      <td>0</td>\n",
       "      <td>Christopher Nolan</td>\n",
       "    </tr>\n",
       "    <tr>\n",
       "      <th>1</th>\n",
       "      <td>The Matrix</td>\n",
       "      <td>1999</td>\n",
       "      <td>8.7</td>\n",
       "      <td>1</td>\n",
       "      <td>0</td>\n",
       "      <td>0</td>\n",
       "      <td>0</td>\n",
       "      <td>Lana Wachowski,Lilly Wachowski</td>\n",
       "    </tr>\n",
       "    <tr>\n",
       "      <th>2</th>\n",
       "      <td>Avengers: Infinity War</td>\n",
       "      <td>2018</td>\n",
       "      <td>8.5</td>\n",
       "      <td>1</td>\n",
       "      <td>0</td>\n",
       "      <td>0</td>\n",
       "      <td>0</td>\n",
       "      <td>Anthony Russo,Joe Russo</td>\n",
       "    </tr>\n",
       "    <tr>\n",
       "      <th>3</th>\n",
       "      <td>Back to the Future</td>\n",
       "      <td>1985</td>\n",
       "      <td>8.5</td>\n",
       "      <td>1</td>\n",
       "      <td>0</td>\n",
       "      <td>0</td>\n",
       "      <td>0</td>\n",
       "      <td>Robert Zemeckis</td>\n",
       "    </tr>\n",
       "    <tr>\n",
       "      <th>4</th>\n",
       "      <td>The Good, the Bad and the Ugly</td>\n",
       "      <td>1966</td>\n",
       "      <td>8.8</td>\n",
       "      <td>1</td>\n",
       "      <td>0</td>\n",
       "      <td>1</td>\n",
       "      <td>0</td>\n",
       "      <td>Sergio Leone</td>\n",
       "    </tr>\n",
       "    <tr>\n",
       "      <th>...</th>\n",
       "      <td>...</td>\n",
       "      <td>...</td>\n",
       "      <td>...</td>\n",
       "      <td>...</td>\n",
       "      <td>...</td>\n",
       "      <td>...</td>\n",
       "      <td>...</td>\n",
       "      <td>...</td>\n",
       "    </tr>\n",
       "    <tr>\n",
       "      <th>15685</th>\n",
       "      <td>Whispers: An Elephant's Tale</td>\n",
       "      <td>2000</td>\n",
       "      <td>5.0</td>\n",
       "      <td>0</td>\n",
       "      <td>0</td>\n",
       "      <td>0</td>\n",
       "      <td>1</td>\n",
       "      <td>Dereck Joubert</td>\n",
       "    </tr>\n",
       "    <tr>\n",
       "      <th>15686</th>\n",
       "      <td>The Ghosts of Buxley Hall</td>\n",
       "      <td>1980</td>\n",
       "      <td>6.2</td>\n",
       "      <td>0</td>\n",
       "      <td>0</td>\n",
       "      <td>0</td>\n",
       "      <td>1</td>\n",
       "      <td>Bruce Bilson</td>\n",
       "    </tr>\n",
       "    <tr>\n",
       "      <th>15687</th>\n",
       "      <td>The Poof Point</td>\n",
       "      <td>2001</td>\n",
       "      <td>4.7</td>\n",
       "      <td>0</td>\n",
       "      <td>0</td>\n",
       "      <td>0</td>\n",
       "      <td>1</td>\n",
       "      <td>Neal Israel</td>\n",
       "    </tr>\n",
       "    <tr>\n",
       "      <th>15688</th>\n",
       "      <td>Sharks of Lost Island</td>\n",
       "      <td>2013</td>\n",
       "      <td>5.7</td>\n",
       "      <td>0</td>\n",
       "      <td>0</td>\n",
       "      <td>0</td>\n",
       "      <td>1</td>\n",
       "      <td>Neil Gelinas</td>\n",
       "    </tr>\n",
       "    <tr>\n",
       "      <th>15689</th>\n",
       "      <td>Man Among Cheetahs</td>\n",
       "      <td>2017</td>\n",
       "      <td>6.6</td>\n",
       "      <td>0</td>\n",
       "      <td>0</td>\n",
       "      <td>0</td>\n",
       "      <td>1</td>\n",
       "      <td>Richard Slater-Jones</td>\n",
       "    </tr>\n",
       "  </tbody>\n",
       "</table>\n",
       "<p>15690 rows × 8 columns</p>\n",
       "</div>"
      ],
      "text/plain": [
       "                                Title  Year  IMDb  Netflix  Hulu  Prime Video  \\\n",
       "0                           Inception  2010   8.8        1     0            0   \n",
       "1                          The Matrix  1999   8.7        1     0            0   \n",
       "2              Avengers: Infinity War  2018   8.5        1     0            0   \n",
       "3                  Back to the Future  1985   8.5        1     0            0   \n",
       "4      The Good, the Bad and the Ugly  1966   8.8        1     0            1   \n",
       "...                               ...   ...   ...      ...   ...          ...   \n",
       "15685    Whispers: An Elephant's Tale  2000   5.0        0     0            0   \n",
       "15686       The Ghosts of Buxley Hall  1980   6.2        0     0            0   \n",
       "15687                  The Poof Point  2001   4.7        0     0            0   \n",
       "15688           Sharks of Lost Island  2013   5.7        0     0            0   \n",
       "15689              Man Among Cheetahs  2017   6.6        0     0            0   \n",
       "\n",
       "       Disney+                       Directors  \n",
       "0            0               Christopher Nolan  \n",
       "1            0  Lana Wachowski,Lilly Wachowski  \n",
       "2            0         Anthony Russo,Joe Russo  \n",
       "3            0                 Robert Zemeckis  \n",
       "4            0                    Sergio Leone  \n",
       "...        ...                             ...  \n",
       "15685        1                  Dereck Joubert  \n",
       "15686        1                    Bruce Bilson  \n",
       "15687        1                     Neal Israel  \n",
       "15688        1                    Neil Gelinas  \n",
       "15689        1            Richard Slater-Jones  \n",
       "\n",
       "[15690 rows x 8 columns]"
      ]
     },
     "execution_count": 4,
     "metadata": {},
     "output_type": "execute_result"
    }
   ],
   "source": [
    "movies = \"Cleaning_up_data/clean_movies.csv\"\n",
    "movies_df = pd.read_csv(movies)\n",
    "del movies_df['index']\n",
    "movies_df"
   ]
  },
  {
   "cell_type": "code",
   "execution_count": 5,
   "metadata": {
    "scrolled": true
   },
   "outputs": [
    {
     "data": {
      "text/plain": [
       "Text(0.5, 0, 'Release Year')"
      ]
     },
     "execution_count": 5,
     "metadata": {},
     "output_type": "execute_result"
    },
    {
     "data": {
      "image/png": "[encoded data removed]",
      "text/plain": [
       "<Figure size 432x288 with 1 Axes>"
      ]
     },
     "metadata": {
      "needs_background": "light"
     },
     "output_type": "display_data"
    }
   ],
   "source": [
    "year = movies_df['Year']\n",
    "rating = movies_df['IMDb']\n",
    "plt.scatter(year, rating)\n",
    "plt.ylabel('IMDb Rating')\n",
    "plt.xlabel('Release Year')"
   ]
  },
  {
   "cell_type": "code",
   "execution_count": 6,
   "metadata": {
    "scrolled": true
   },
   "outputs": [],
   "source": [
    "sample_df = movies_df.sample(n=1000)"
   ]
  },
  {
   "cell_type": "code",
   "execution_count": 7,
   "metadata": {},
   "outputs": [
    {
     "data": {
      "text/plain": [
       "Text(0.5, 0, 'Release Year')"
      ]
     },
     "execution_count": 7,
     "metadata": {},
     "output_type": "execute_result"
    },
    {
     "data": {
      "image/png": "[encoded data removed]",
      "text/plain": [
       "<Figure size 432x288 with 1 Axes>"
      ]
     },
     "metadata": {
      "needs_background": "light"
     },
     "output_type": "display_data"
    }
   ],
   "source": [
    "year = sample_df['Year']\n",
    "rating = sample_df['IMDb']\n",
    "plt.scatter(year, rating)\n",
    "plt.ylabel('IMDb Rating')\n",
    "plt.xlabel('Release Year')"
   ]
  },
  {
   "cell_type": "code",
   "execution_count": 8,
   "metadata": {},
   "outputs": [
    {
     "data": {
      "text/plain": [
       "<matplotlib.axes._subplots.AxesSubplot at 0x1911b5b56c8>"
      ]
     },
     "execution_count": 8,
     "metadata": {},
     "output_type": "execute_result"
    },
    {
     "data": {
      "image/png": "[encoded data removed]",
      "text/plain": [
       "<Figure size 432x288 with 1 Axes>"
      ]
     },
     "metadata": {
      "needs_background": "light"
     },
     "output_type": "display_data"
    }
   ],
   "source": [
    "netflix_df = movies_df.loc[movies_df['Netflix'] == 1]\n",
    "netflix = (len(netflix_df))\n",
    "\n",
    "hulu_df = movies_df.loc[movies_df['Hulu'] == 1]\n",
    "hulu = (len(hulu_df))\n",
    "\n",
    "prime_df = movies_df.loc[movies_df['Prime Video'] == 1]\n",
    "prime = (len(prime_df))\n",
    "\n",
    "disney_df = movies_df.loc[movies_df['Disney+'] == 1]\n",
    "disney = (len(disney_df))\n",
    "\n",
    "count_df = pd.DataFrame({'Streaming Services': ['Netflix', 'Hulu', 'Amazon Prime', 'Disney+'],\n",
    "                         'Count': [netflix, hulu, prime, disney]}\n",
    "                       ).set_index('Streaming Services')\n",
    "count_df.plot(kind='bar')\n"
   ]
  },
  {
   "cell_type": "code",
   "execution_count": 9,
   "metadata": {},
   "outputs": [
    {
     "data": {
      "text/plain": [
       "<BarContainer object of 9 artists>"
      ]
     },
     "execution_count": 9,
     "metadata": {},
     "output_type": "execute_result"
    },
    {
     "data": {
      "image/png": "[encoded data removed]",
      "text/plain": [
       "<Figure size 432x288 with 1 Axes>"
      ]
     },
     "metadata": {
      "needs_background": "light"
     },
     "output_type": "display_data"
    }
   ],
   "source": [
    "year_bin = [0, 1949, 1959, 1969, 1979, 1989, 1999, 2009, 2019, 2030]\n",
    "year_names = ['1940', '1950', '1960', '1970', '1980', '1990', '2000', '2010', '2020']\n",
    "\n",
    "netflix_year_df = netflix_df[['Title', 'Year']].reset_index(inplace=False)\n",
    "\n",
    "netflix_year_df['Decade'] = pd.cut(netflix_year_df['Year'], year_bin, labels=year_names, include_lowest=True)\n",
    "netflix_bar_df = netflix_year_df.groupby('Decade').count().reset_index(inplace=False)\n",
    "plt.bar(netflix_bar_df['Decade'],netflix_bar_df['Year'])\n"
   ]
  },
  {
   "cell_type": "code",
   "execution_count": 10,
   "metadata": {},
   "outputs": [
    {
     "data": {
      "text/plain": [
       "<BarContainer object of 11 artists>"
      ]
     },
     "execution_count": 10,
     "metadata": {},
     "output_type": "execute_result"
    },
    {
     "data": {
      "image/png": "[encoded data removed]",
      "text/plain": [
       "<Figure size 432x288 with 1 Axes>"
      ]
     },
     "metadata": {
      "needs_background": "light"
     },
     "output_type": "display_data"
    }
   ],
   "source": [
    "year_bin = [0,1929, 1939, 1949, 1959, 1969, 1979, 1989, 1999, 2009, 2019, 2030]\n",
    "year_names = ['1920', '1930', '1940', '1950', '1960', '1970', '1980', '1990', '2000', '2010', '2020']\n",
    "\n",
    "hulu_year_df = hulu_df[['Title', 'Year']].reset_index(inplace=False)\n",
    "\n",
    "hulu_year_df['Decade'] = pd.cut(hulu_year_df['Year'], year_bin, labels=year_names, include_lowest=True)\n",
    "hulu_year_df = hulu_year_df.groupby('Decade').count().reset_index(inplace=False)\n",
    "plt.bar(hulu_year_df['Decade'],hulu_year_df['Year'])\n"
   ]
  },
  {
   "cell_type": "code",
   "execution_count": 11,
   "metadata": {
    "scrolled": true
   },
   "outputs": [
    {
     "data": {
      "text/plain": [
       "([0, 1, 2, 3, 4, 5, 6, 7, 8, 9, 10, 11, 12],\n",
       " <a list of 13 Text xticklabel objects>)"
      ]
     },
     "execution_count": 11,
     "metadata": {},
     "output_type": "execute_result"
    },
    {
     "data": {
      "image/png": "[encoded data removed]",
      "text/plain": [
       "<Figure size 432x288 with 1 Axes>"
      ]
     },
     "metadata": {
      "needs_background": "light"
     },
     "output_type": "display_data"
    }
   ],
   "source": [
    "year_bin = [0, 1909, 1919, 1929, 1939, 1949, 1959, 1969, 1979, 1989, 1999, 2009, 2019, 2030]\n",
    "year_names = ['1900', '1910', '1920', '1930', '1940', '1950', '1960', '1970', '1980', '1990', '2000', '2010', '2020']\n",
    "\n",
    "prime_year_df = prime_df[['Title', 'Year']].reset_index(inplace=False)\n",
    "\n",
    "prime_year_df['Decade'] = pd.cut(prime_year_df['Year'], year_bin, labels=year_names, include_lowest=True)\n",
    "prime_year_df = prime_year_df.groupby('Decade').count().reset_index(inplace=False)\n",
    "plt.bar(prime_year_df['Decade'],prime_year_df['Year'])\n",
    "plt.xticks(rotation=90)\n"
   ]
  },
  {
   "cell_type": "code",
   "execution_count": 12,
   "metadata": {},
   "outputs": [
    {
     "data": {
      "text/plain": [
       "<BarContainer object of 11 artists>"
      ]
     },
     "execution_count": 12,
     "metadata": {},
     "output_type": "execute_result"
    },
    {
     "data": {
      "image/png": "[encoded data removed]",
      "text/plain": [
       "<Figure size 432x288 with 1 Axes>"
      ]
     },
     "metadata": {
      "needs_background": "light"
     },
     "output_type": "display_data"
    }
   ],
   "source": [
    "year_bin = [0, 1929, 1939, 1949, 1959, 1969, 1979, 1989, 1999, 2009, 2019, 2030]\n",
    "year_names = ['1920', '1930', '1940', '1950', '1960', '1970', '1980', '1990', '2000', '2010', '2020']\n",
    "\n",
    "disney_year_df = disney_df[['Title', 'Year']].reset_index(inplace=False)\n",
    "\n",
    "disney_year_df['Decade'] = pd.cut(disney_year_df['Year'], year_bin, labels=year_names, include_lowest=True)\n",
    "disney_year_df = disney_year_df.groupby('Decade').count().reset_index(inplace=False)\n",
    "plt.bar(disney_year_df['Decade'],disney_year_df['Year'])\n"
   ]
  },
  {
   "cell_type": "code",
   "execution_count": 58,
   "metadata": {},
   "outputs": [],
   "source": [
    "high_ratings = movies_df.loc[movies_df['IMDb']>8]\n",
    "director_df = high_ratings['Directors'].value_counts().head(30).reset_index()\n",
    "# print(director_df)\n",
    "# for director in director_df[]:\n",
    "#     top_directors = top_directors.append(high_ratings.loc[(high_ratings['Directors'] == director)])\n",
    "#     print(director)\n",
    "top_directors = high_ratings.loc[(high_ratings['Directors'] == 'Steven J. Santos') |\n",
    "                                (high_ratings['Directors'] == 'Christopher Nolan') |\n",
    "                                 (high_ratings['Directors'] == 'Hrishikesh Mukherjee') |\n",
    "                                 (high_ratings['Directors'] == 'Quentin Tarantino') |\n",
    "                               (high_ratings['Directors'] == 'Martin Scorsese')]\n"
   ]
  },
  {
   "cell_type": "code",
   "execution_count": 55,
   "metadata": {},
   "outputs": [
    {
     "data": {
      "text/plain": [
       "<matplotlib.axes._subplots.AxesSubplot at 0x1911b9bbdc8>"
      ]
     },
     "execution_count": 55,
     "metadata": {},
     "output_type": "execute_result"
    },
    {
     "data": {
      "image/png": "[encoded data removed]",
      "text/plain": [
       "<Figure size 432x288 with 1 Axes>"
      ]
     },
     "metadata": {
      "needs_background": "light"
     },
     "output_type": "display_data"
    }
   ],
   "source": [
    "dnetflix_df = top_directors.loc[top_directors['Netflix'] == 1]\n",
    "dnetflix = (len(dnetflix_df))\n",
    "\n",
    "dhulu_df = top_directors.loc[top_directors['Hulu'] == 1]\n",
    "dhulu = (len(dhulu_df))\n",
    "\n",
    "dprime_df = top_directors.loc[top_directors['Prime Video'] == 1]\n",
    "dprime = (len(dprime_df))\n",
    "\n",
    "ddisney_df = top_directors.loc[top_directors['Disney+'] == 1]\n",
    "ddisney = (len(ddisney_df))\n",
    "\n",
    "dcount_df = pd.DataFrame({'Streaming Services': ['Netflix', 'Hulu', 'Amazon Prime', 'Disney+'],\n",
    "                         'Count': [dnetflix, dhulu, dprime, ddisney]}\n",
    "                       ).set_index('Streaming Services')\n",
    "dcount_df.plot(kind='bar')"
   ]
  },
  {
   "cell_type": "code",
   "execution_count": 56,
   "metadata": {},
   "outputs": [
    {
     "data": {
      "text/plain": [
       "Text(0.5, 0, 'Release Year')"
      ]
     },
     "execution_count": 56,
     "metadata": {},
     "output_type": "execute_result"
    },
    {
     "data": {
      "image/png": "[encoded data removed]",
      "text/plain": [
       "<Figure size 432x288 with 1 Axes>"
      ]
     },
     "metadata": {
      "needs_background": "light"
     },
     "output_type": "display_data"
    }
   ],
   "source": [
    "dyear = top_directors['Year']\n",
    "drating = top_directors['IMDb']\n",
    "plt.scatter(dyear, drating)\n",
    "plt.ylabel('IMDb Rating')\n",
    "plt.xlabel('Release Year')"
   ]
  }
 ],
 "metadata": {
  "kernelspec": {
   "display_name": "Python [conda env:root] *",
   "language": "python",
   "name": "conda-root-py"
  },
  "language_info": {
   "codemirror_mode": {
    "name": "ipython",
    "version": 3
   },
   "file_extension": ".py",
   "mimetype": "text/x-python",
   "name": "python",
   "nbconvert_exporter": "python",
   "pygments_lexer": "ipython3",
   "version": "3.7.6"
  }
 },
 "nbformat": 4,
 "nbformat_minor": 4
}
