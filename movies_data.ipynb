{
 "cells": [
  {
   "cell_type": "code",
   "execution_count": 2,
   "metadata": {},
   "outputs": [],
   "source": [
    "import pandas as pd\n",
    "from pprint import pprint\n",
    "import matplotlib.pyplot as plt\n",
    "import random"
   ]
  },
  {
   "cell_type": "code",
   "execution_count": 3,
   "metadata": {
    "scrolled": true
   },
   "outputs": [
    {
     "data": {
      "text/html": [
       "<div>\n",
       "<style scoped>\n",
       "    .dataframe tbody tr th:only-of-type {\n",
       "        vertical-align: middle;\n",
       "    }\n",
       "\n",
       "    .dataframe tbody tr th {\n",
       "        vertical-align: top;\n",
       "    }\n",
       "\n",
       "    .dataframe thead th {\n",
       "        text-align: right;\n",
       "    }\n",
       "</style>\n",
       "<table border=\"1\" class=\"dataframe\">\n",
       "  <thead>\n",
       "    <tr style=\"text-align: right;\">\n",
       "      <th></th>\n",
       "      <th>Title</th>\n",
       "      <th>Year</th>\n",
       "      <th>IMDb</th>\n",
       "      <th>Netflix</th>\n",
       "      <th>Hulu</th>\n",
       "      <th>Prime Video</th>\n",
       "      <th>Disney+</th>\n",
       "      <th>Directors</th>\n",
       "    </tr>\n",
       "  </thead>\n",
       "  <tbody>\n",
       "    <tr>\n",
       "      <th>0</th>\n",
       "      <td>Inception</td>\n",
       "      <td>2010</td>\n",
       "      <td>8.8</td>\n",
       "      <td>1</td>\n",
       "      <td>0</td>\n",
       "      <td>0</td>\n",
       "      <td>0</td>\n",
       "      <td>Christopher Nolan</td>\n",
       "    </tr>\n",
       "    <tr>\n",
       "      <th>1</th>\n",
       "      <td>The Matrix</td>\n",
       "      <td>1999</td>\n",
       "      <td>8.7</td>\n",
       "      <td>1</td>\n",
       "      <td>0</td>\n",
       "      <td>0</td>\n",
       "      <td>0</td>\n",
       "      <td>Lana Wachowski,Lilly Wachowski</td>\n",
       "    </tr>\n",
       "    <tr>\n",
       "      <th>2</th>\n",
       "      <td>Avengers: Infinity War</td>\n",
       "      <td>2018</td>\n",
       "      <td>8.5</td>\n",
       "      <td>1</td>\n",
       "      <td>0</td>\n",
       "      <td>0</td>\n",
       "      <td>0</td>\n",
       "      <td>Anthony Russo,Joe Russo</td>\n",
       "    </tr>\n",
       "    <tr>\n",
       "      <th>3</th>\n",
       "      <td>Back to the Future</td>\n",
       "      <td>1985</td>\n",
       "      <td>8.5</td>\n",
       "      <td>1</td>\n",
       "      <td>0</td>\n",
       "      <td>0</td>\n",
       "      <td>0</td>\n",
       "      <td>Robert Zemeckis</td>\n",
       "    </tr>\n",
       "    <tr>\n",
       "      <th>4</th>\n",
       "      <td>The Good, the Bad and the Ugly</td>\n",
       "      <td>1966</td>\n",
       "      <td>8.8</td>\n",
       "      <td>1</td>\n",
       "      <td>0</td>\n",
       "      <td>1</td>\n",
       "      <td>0</td>\n",
       "      <td>Sergio Leone</td>\n",
       "    </tr>\n",
       "    <tr>\n",
       "      <th>...</th>\n",
       "      <td>...</td>\n",
       "      <td>...</td>\n",
       "      <td>...</td>\n",
       "      <td>...</td>\n",
       "      <td>...</td>\n",
       "      <td>...</td>\n",
       "      <td>...</td>\n",
       "      <td>...</td>\n",
       "    </tr>\n",
       "    <tr>\n",
       "      <th>15685</th>\n",
       "      <td>Whispers: An Elephant's Tale</td>\n",
       "      <td>2000</td>\n",
       "      <td>5.0</td>\n",
       "      <td>0</td>\n",
       "      <td>0</td>\n",
       "      <td>0</td>\n",
       "      <td>1</td>\n",
       "      <td>Dereck Joubert</td>\n",
       "    </tr>\n",
       "    <tr>\n",
       "      <th>15686</th>\n",
       "      <td>The Ghosts of Buxley Hall</td>\n",
       "      <td>1980</td>\n",
       "      <td>6.2</td>\n",
       "      <td>0</td>\n",
       "      <td>0</td>\n",
       "      <td>0</td>\n",
       "      <td>1</td>\n",
       "      <td>Bruce Bilson</td>\n",
       "    </tr>\n",
       "    <tr>\n",
       "      <th>15687</th>\n",
       "      <td>The Poof Point</td>\n",
       "      <td>2001</td>\n",
       "      <td>4.7</td>\n",
       "      <td>0</td>\n",
       "      <td>0</td>\n",
       "      <td>0</td>\n",
       "      <td>1</td>\n",
       "      <td>Neal Israel</td>\n",
       "    </tr>\n",
       "    <tr>\n",
       "      <th>15688</th>\n",
       "      <td>Sharks of Lost Island</td>\n",
       "      <td>2013</td>\n",
       "      <td>5.7</td>\n",
       "      <td>0</td>\n",
       "      <td>0</td>\n",
       "      <td>0</td>\n",
       "      <td>1</td>\n",
       "      <td>Neil Gelinas</td>\n",
       "    </tr>\n",
       "    <tr>\n",
       "      <th>15689</th>\n",
       "      <td>Man Among Cheetahs</td>\n",
       "      <td>2017</td>\n",
       "      <td>6.6</td>\n",
       "      <td>0</td>\n",
       "      <td>0</td>\n",
       "      <td>0</td>\n",
       "      <td>1</td>\n",
       "      <td>Richard Slater-Jones</td>\n",
       "    </tr>\n",
       "  </tbody>\n",
       "</table>\n",
       "<p>15690 rows × 8 columns</p>\n",
       "</div>"
      ],
      "text/plain": [
       "                                Title  Year  IMDb  Netflix  Hulu  Prime Video  \\\n",
       "0                           Inception  2010   8.8        1     0            0   \n",
       "1                          The Matrix  1999   8.7        1     0            0   \n",
       "2              Avengers: Infinity War  2018   8.5        1     0            0   \n",
       "3                  Back to the Future  1985   8.5        1     0            0   \n",
       "4      The Good, the Bad and the Ugly  1966   8.8        1     0            1   \n",
       "...                               ...   ...   ...      ...   ...          ...   \n",
       "15685    Whispers: An Elephant's Tale  2000   5.0        0     0            0   \n",
       "15686       The Ghosts of Buxley Hall  1980   6.2        0     0            0   \n",
       "15687                  The Poof Point  2001   4.7        0     0            0   \n",
       "15688           Sharks of Lost Island  2013   5.7        0     0            0   \n",
       "15689              Man Among Cheetahs  2017   6.6        0     0            0   \n",
       "\n",
       "       Disney+                       Directors  \n",
       "0            0               Christopher Nolan  \n",
       "1            0  Lana Wachowski,Lilly Wachowski  \n",
       "2            0         Anthony Russo,Joe Russo  \n",
       "3            0                 Robert Zemeckis  \n",
       "4            0                    Sergio Leone  \n",
       "...        ...                             ...  \n",
       "15685        1                  Dereck Joubert  \n",
       "15686        1                    Bruce Bilson  \n",
       "15687        1                     Neal Israel  \n",
       "15688        1                    Neil Gelinas  \n",
       "15689        1            Richard Slater-Jones  \n",
       "\n",
       "[15690 rows x 8 columns]"
      ]
     },
     "execution_count": 3,
     "metadata": {},
     "output_type": "execute_result"
    }
   ],
   "source": [
    "movies = \"Cleaning_up_data/clean_movies.csv\"\n",
    "movies_df = pd.read_csv(movies)\n",
    "del movies_df['index']\n",
    "movies_df"
   ]
  },
  {
   "cell_type": "code",
   "execution_count": 4,
   "metadata": {
    "scrolled": true
   },
   "outputs": [
    {
     "data": {
      "text/plain": [
       "<function matplotlib.pyplot.show(*args, **kw)>"
      ]
     },
     "execution_count": 4,
     "metadata": {},
     "output_type": "execute_result"
    },
    {
     "data": {
      "image/png": "[encoded data removed]",
      "text/plain": [
       "<Figure size 432x288 with 1 Axes>"
      ]
     },
     "metadata": {
      "needs_background": "light"
     },
     "output_type": "display_data"
    }
   ],
   "source": [
    "year = movies_df['Year']\n",
    "rating = movies_df['IMDb']\n",
    "plt.scatter(year, rating, facecolor = 'blue', edgecolor = 'black')\n",
    "plt.ylabel('IMDb Rating')\n",
    "plt.xlabel('Release Year')\n",
    "plt.title('Movie Ratings over Time')\n",
    "\n",
    "plt.savefig(\"PNG/movie_vs_time.png\")\n",
    "plt.show"
   ]
  },
  {
   "cell_type": "code",
   "execution_count": 6,
   "metadata": {
    "scrolled": true
   },
   "outputs": [],
   "source": [
    "sample_df = movies_df.sample(n=1000)"
   ]
  },
  {
   "cell_type": "code",
   "execution_count": 7,
   "metadata": {},
   "outputs": [
    {
     "data": {
      "text/plain": [
       "<function matplotlib.pyplot.show(*args, **kw)>"
      ]
     },
     "execution_count": 7,
     "metadata": {},
     "output_type": "execute_result"
    },
    {
     "data": {
      "image/png": "[encoded data removed]",
      "text/plain": [
       "<Figure size 432x288 with 1 Axes>"
      ]
     },
     "metadata": {
      "needs_background": "light"
     },
     "output_type": "display_data"
    }
   ],
   "source": [
    "year = sample_df['Year']\n",
    "rating = sample_df['IMDb']\n",
    "plt.scatter(year, rating, facecolor = 'blue', edgecolor = 'black')\n",
    "plt.ylabel('IMDb Rating')\n",
    "plt.xlabel('Release Year')\n",
    "plt.title('1000 Movie Ratings over Time')\n",
    "\n",
    "plt.savefig(\"PNG/movie_vs_time_sample.png\")\n",
    "plt.show"
   ]
  },
  {
   "cell_type": "code",
   "execution_count": 8,
   "metadata": {},
   "outputs": [
    {
     "data": {
      "text/plain": [
       "<function matplotlib.pyplot.show(*args, **kw)>"
      ]
     },
     "execution_count": 8,
     "metadata": {},
     "output_type": "execute_result"
    },
    {
     "data": {
      "image/png": "[encoded data removed]",
      "text/plain": [
       "<Figure size 432x288 with 1 Axes>"
      ]
     },
     "metadata": {
      "needs_background": "light"
     },
     "output_type": "display_data"
    }
   ],
   "source": [
    "netflix_df = movies_df.loc[movies_df['Netflix'] == 1]\n",
    "netflix = (len(netflix_df))\n",
    "\n",
    "hulu_df = movies_df.loc[movies_df['Hulu'] == 1]\n",
    "hulu = (len(hulu_df))\n",
    "\n",
    "prime_df = movies_df.loc[movies_df['Prime Video'] == 1]\n",
    "prime = (len(prime_df))\n",
    "\n",
    "disney_df = movies_df.loc[movies_df['Disney+'] == 1]\n",
    "disney = (len(disney_df))\n",
    "\n",
    "count_df = pd.DataFrame({'Streaming Services': ['Netflix', 'Hulu', 'Amazon Prime', 'Disney+'],\n",
    "                         'Count': [netflix, hulu, prime, disney]}\n",
    "                       ).set_index('Streaming Services')\n",
    "count_df.plot(kind='bar')\n",
    "plt.xticks(rotation = 0) \n",
    "plt.legend().remove()\n",
    "plt.ylabel('Movies')\n",
    "plt.title('Movies per Service')\n",
    "\n",
    "plt.savefig(\"PNG/movie_per_service.png\")\n",
    "plt.show\n"
   ]
  },
  {
   "cell_type": "code",
   "execution_count": 9,
   "metadata": {},
   "outputs": [
    {
     "data": {
      "text/plain": [
       "<function matplotlib.pyplot.show(*args, **kw)>"
      ]
     },
     "execution_count": 9,
     "metadata": {},
     "output_type": "execute_result"
    },
    {
     "data": {
      "image/png": "[encoded data removed]",
      "text/plain": [
       "<Figure size 432x288 with 1 Axes>"
      ]
     },
     "metadata": {
      "needs_background": "light"
     },
     "output_type": "display_data"
    }
   ],
   "source": [
    "year_bin = [0, 1949, 1959, 1969, 1979, 1989, 1999, 2009, 2019, 2030]\n",
    "year_names = ['1940', '1950', '1960', '1970', '1980', '1990', '2000', '2010', '2020']\n",
    "\n",
    "netflix_year_df = netflix_df[['Title', 'Year']].reset_index(inplace=False)\n",
    "\n",
    "netflix_year_df['Decade'] = pd.cut(netflix_year_df['Year'], year_bin, labels=year_names, include_lowest=True)\n",
    "netflix_bar_df = netflix_year_df.groupby('Decade').count().reset_index(inplace=False)\n",
    "plt.bar(netflix_bar_df['Decade'],netflix_bar_df['Year'])\n",
    "plt.ylabel('Movies')\n",
    "plt.title('Netflix Movies per Decades')\n",
    "\n",
    "plt.savefig(\"PNG/netflix_movie_per_dacade.png\")\n",
    "plt.show\n",
    "\n"
   ]
  },
  {
   "cell_type": "code",
   "execution_count": 10,
   "metadata": {},
   "outputs": [
    {
     "name": "stderr",
     "output_type": "stream",
     "text": [
      "C:\\Users\\jerod\\anaconda3\\lib\\site-packages\\ipykernel_launcher.py:1: SettingWithCopyWarning: \n",
      "A value is trying to be set on a copy of a slice from a DataFrame.\n",
      "Try using .loc[row_indexer,col_indexer] = value instead\n",
      "\n",
      "See the caveats in the documentation: https://pandas.pydata.org/pandas-docs/stable/user_guide/indexing.html#returning-a-view-versus-a-copy\n",
      "  \"\"\"Entry point for launching an IPython kernel.\n"
     ]
    },
    {
     "data": {
      "text/html": [
       "<div>\n",
       "<style scoped>\n",
       "    .dataframe tbody tr th:only-of-type {\n",
       "        vertical-align: middle;\n",
       "    }\n",
       "\n",
       "    .dataframe tbody tr th {\n",
       "        vertical-align: top;\n",
       "    }\n",
       "\n",
       "    .dataframe thead tr th {\n",
       "        text-align: left;\n",
       "    }\n",
       "\n",
       "    .dataframe thead tr:last-of-type th {\n",
       "        text-align: right;\n",
       "    }\n",
       "</style>\n",
       "<table border=\"1\" class=\"dataframe\">\n",
       "  <thead>\n",
       "    <tr>\n",
       "      <th></th>\n",
       "      <th colspan=\"3\" halign=\"left\">IMDb</th>\n",
       "    </tr>\n",
       "    <tr>\n",
       "      <th></th>\n",
       "      <th>mean</th>\n",
       "      <th>median</th>\n",
       "      <th>count</th>\n",
       "    </tr>\n",
       "    <tr>\n",
       "      <th>Decade</th>\n",
       "      <th></th>\n",
       "      <th></th>\n",
       "      <th></th>\n",
       "    </tr>\n",
       "  </thead>\n",
       "  <tbody>\n",
       "    <tr>\n",
       "      <th>1940</th>\n",
       "      <td>6.718182</td>\n",
       "      <td>6.60</td>\n",
       "      <td>11</td>\n",
       "    </tr>\n",
       "    <tr>\n",
       "      <th>1950</th>\n",
       "      <td>6.000000</td>\n",
       "      <td>6.00</td>\n",
       "      <td>1</td>\n",
       "    </tr>\n",
       "    <tr>\n",
       "      <th>1960</th>\n",
       "      <td>7.400000</td>\n",
       "      <td>7.00</td>\n",
       "      <td>7</td>\n",
       "    </tr>\n",
       "    <tr>\n",
       "      <th>1970</th>\n",
       "      <td>6.820690</td>\n",
       "      <td>7.00</td>\n",
       "      <td>29</td>\n",
       "    </tr>\n",
       "    <tr>\n",
       "      <th>1980</th>\n",
       "      <td>6.839062</td>\n",
       "      <td>6.85</td>\n",
       "      <td>64</td>\n",
       "    </tr>\n",
       "    <tr>\n",
       "      <th>1990</th>\n",
       "      <td>6.613889</td>\n",
       "      <td>6.60</td>\n",
       "      <td>108</td>\n",
       "    </tr>\n",
       "    <tr>\n",
       "      <th>2000</th>\n",
       "      <td>6.459366</td>\n",
       "      <td>6.50</td>\n",
       "      <td>347</td>\n",
       "    </tr>\n",
       "    <tr>\n",
       "      <th>2010</th>\n",
       "      <td>6.194743</td>\n",
       "      <td>6.30</td>\n",
       "      <td>2663</td>\n",
       "    </tr>\n",
       "    <tr>\n",
       "      <th>2020</th>\n",
       "      <td>6.230337</td>\n",
       "      <td>6.30</td>\n",
       "      <td>89</td>\n",
       "    </tr>\n",
       "  </tbody>\n",
       "</table>\n",
       "</div>"
      ],
      "text/plain": [
       "            IMDb             \n",
       "            mean median count\n",
       "Decade                       \n",
       "1940    6.718182   6.60    11\n",
       "1950    6.000000   6.00     1\n",
       "1960    7.400000   7.00     7\n",
       "1970    6.820690   7.00    29\n",
       "1980    6.839062   6.85    64\n",
       "1990    6.613889   6.60   108\n",
       "2000    6.459366   6.50   347\n",
       "2010    6.194743   6.30  2663\n",
       "2020    6.230337   6.30    89"
      ]
     },
     "execution_count": 10,
     "metadata": {},
     "output_type": "execute_result"
    }
   ],
   "source": [
    "netflix_df['Decade'] = pd.cut(netflix_df['Year'], year_bin, labels=year_names, include_lowest=True)\n",
    "\n",
    "summary_netflix = netflix_df.groupby(['Decade']).agg({'IMDb': ['mean', 'median', 'count']})\n",
    "summary_netflix = summary_netflix.dropna(how='any')\n",
    "summary_netflix"
   ]
  },
  {
   "cell_type": "code",
   "execution_count": 37,
   "metadata": {},
   "outputs": [
    {
     "data": {
      "image/png": "[encoded data removed]",
      "text/plain": [
       "<Figure size 432x288 with 1 Axes>"
      ]
     },
     "metadata": {
      "needs_background": "light"
     },
     "output_type": "display_data"
    }
   ],
   "source": [
    "tick_locations = [0, 1, 2, 3, 4, 5, 6, 7, 8]\n",
    "netflix_line = netflix_df.groupby(['Decade']).agg({'IMDb': ['mean']})\n",
    "netflix_line = netflix_line.dropna(how='any')\n",
    "netflix_line.plot()\n",
    "plt.xticks(tick_locations, year_names)\n",
    "plt.ylabel('IMDb Rating')\n",
    "plt.legend().remove()\n",
    "plt.title('Netflix')\n",
    "plt.savefig('PNG/netflix_movie_ratings_time.png')\n",
    "plt.show()"
   ]
  },
  {
   "cell_type": "code",
   "execution_count": 13,
   "metadata": {},
   "outputs": [
    {
     "data": {
      "text/plain": [
       "<function matplotlib.pyplot.show(*args, **kw)>"
      ]
     },
     "execution_count": 13,
     "metadata": {},
     "output_type": "execute_result"
    },
    {
     "data": {
      "image/png": "[encoded data removed]",
      "text/plain": [
       "<Figure size 432x288 with 1 Axes>"
      ]
     },
     "metadata": {
      "needs_background": "light"
     },
     "output_type": "display_data"
    }
   ],
   "source": [
    "year_bin = [0,1929, 1939, 1949, 1959, 1969, 1979, 1989, 1999, 2009, 2019, 2030]\n",
    "year_names = ['1920', '1930', '1940', '1950', '1960', '1970', '1980', '1990', '2000', '2010', '2020']\n",
    "\n",
    "hulu_year_df = hulu_df[['Title', 'Year']].reset_index(inplace=False)\n",
    "\n",
    "hulu_year_df['Decade'] = pd.cut(hulu_year_df['Year'], year_bin, labels=year_names, include_lowest=True)\n",
    "hulu_year_df = hulu_year_df.groupby('Decade').count().reset_index(inplace=False)\n",
    "plt.bar(hulu_year_df['Decade'],hulu_year_df['Year'])\n",
    "plt.ylabel('Movies')\n",
    "plt.title('Hulu Movies per Decades')\n",
    "\n",
    "plt.savefig(\"PNG/hulu_movie_per_decade.png\")\n",
    "plt.show\n"
   ]
  },
  {
   "cell_type": "code",
   "execution_count": 14,
   "metadata": {},
   "outputs": [
    {
     "name": "stderr",
     "output_type": "stream",
     "text": [
      "C:\\Users\\jerod\\anaconda3\\lib\\site-packages\\ipykernel_launcher.py:1: SettingWithCopyWarning: \n",
      "A value is trying to be set on a copy of a slice from a DataFrame.\n",
      "Try using .loc[row_indexer,col_indexer] = value instead\n",
      "\n",
      "See the caveats in the documentation: https://pandas.pydata.org/pandas-docs/stable/user_guide/indexing.html#returning-a-view-versus-a-copy\n",
      "  \"\"\"Entry point for launching an IPython kernel.\n"
     ]
    },
    {
     "data": {
      "text/html": [
       "<div>\n",
       "<style scoped>\n",
       "    .dataframe tbody tr th:only-of-type {\n",
       "        vertical-align: middle;\n",
       "    }\n",
       "\n",
       "    .dataframe tbody tr th {\n",
       "        vertical-align: top;\n",
       "    }\n",
       "\n",
       "    .dataframe thead tr th {\n",
       "        text-align: left;\n",
       "    }\n",
       "\n",
       "    .dataframe thead tr:last-of-type th {\n",
       "        text-align: right;\n",
       "    }\n",
       "</style>\n",
       "<table border=\"1\" class=\"dataframe\">\n",
       "  <thead>\n",
       "    <tr>\n",
       "      <th></th>\n",
       "      <th colspan=\"3\" halign=\"left\">IMDb</th>\n",
       "    </tr>\n",
       "    <tr>\n",
       "      <th></th>\n",
       "      <th>mean</th>\n",
       "      <th>median</th>\n",
       "      <th>count</th>\n",
       "    </tr>\n",
       "    <tr>\n",
       "      <th>Decade</th>\n",
       "      <th></th>\n",
       "      <th></th>\n",
       "      <th></th>\n",
       "    </tr>\n",
       "  </thead>\n",
       "  <tbody>\n",
       "    <tr>\n",
       "      <th>1920</th>\n",
       "      <td>7.300000</td>\n",
       "      <td>7.3</td>\n",
       "      <td>1</td>\n",
       "    </tr>\n",
       "    <tr>\n",
       "      <th>1940</th>\n",
       "      <td>7.100000</td>\n",
       "      <td>7.1</td>\n",
       "      <td>1</td>\n",
       "    </tr>\n",
       "    <tr>\n",
       "      <th>1950</th>\n",
       "      <td>6.612500</td>\n",
       "      <td>6.4</td>\n",
       "      <td>8</td>\n",
       "    </tr>\n",
       "    <tr>\n",
       "      <th>1960</th>\n",
       "      <td>7.233333</td>\n",
       "      <td>7.8</td>\n",
       "      <td>3</td>\n",
       "    </tr>\n",
       "    <tr>\n",
       "      <th>1970</th>\n",
       "      <td>6.900000</td>\n",
       "      <td>7.0</td>\n",
       "      <td>11</td>\n",
       "    </tr>\n",
       "    <tr>\n",
       "      <th>1980</th>\n",
       "      <td>6.469565</td>\n",
       "      <td>6.2</td>\n",
       "      <td>23</td>\n",
       "    </tr>\n",
       "    <tr>\n",
       "      <th>1990</th>\n",
       "      <td>6.288095</td>\n",
       "      <td>6.2</td>\n",
       "      <td>42</td>\n",
       "    </tr>\n",
       "    <tr>\n",
       "      <th>2000</th>\n",
       "      <td>6.527619</td>\n",
       "      <td>6.6</td>\n",
       "      <td>105</td>\n",
       "    </tr>\n",
       "    <tr>\n",
       "      <th>2010</th>\n",
       "      <td>6.029713</td>\n",
       "      <td>6.1</td>\n",
       "      <td>663</td>\n",
       "    </tr>\n",
       "    <tr>\n",
       "      <th>2020</th>\n",
       "      <td>5.800000</td>\n",
       "      <td>5.7</td>\n",
       "      <td>5</td>\n",
       "    </tr>\n",
       "  </tbody>\n",
       "</table>\n",
       "</div>"
      ],
      "text/plain": [
       "            IMDb             \n",
       "            mean median count\n",
       "Decade                       \n",
       "1920    7.300000    7.3     1\n",
       "1940    7.100000    7.1     1\n",
       "1950    6.612500    6.4     8\n",
       "1960    7.233333    7.8     3\n",
       "1970    6.900000    7.0    11\n",
       "1980    6.469565    6.2    23\n",
       "1990    6.288095    6.2    42\n",
       "2000    6.527619    6.6   105\n",
       "2010    6.029713    6.1   663\n",
       "2020    5.800000    5.7     5"
      ]
     },
     "execution_count": 14,
     "metadata": {},
     "output_type": "execute_result"
    }
   ],
   "source": [
    "hulu_df['Decade'] = pd.cut(hulu_df['Year'], year_bin, labels=year_names, include_lowest=True)\n",
    "\n",
    "summary_hulu = hulu_df.groupby(['Decade']).agg({'IMDb': ['mean', 'median', 'count']})\n",
    "summary_hulu = summary_hulu.dropna(how='any')\n",
    "summary_hulu"
   ]
  },
  {
   "cell_type": "code",
   "execution_count": 38,
   "metadata": {},
   "outputs": [
    {
     "data": {
      "image/png": "[encoded data removed]",
      "text/plain": [
       "<Figure size 432x288 with 1 Axes>"
      ]
     },
     "metadata": {
      "needs_background": "light"
     },
     "output_type": "display_data"
    }
   ],
   "source": [
    "tick_locations = [0, 1, 2, 3, 4, 5, 6, 7, 8, 9]\n",
    "year_names = ['1920', '1940', '1950', '1960', '1970', '1980', '1990', '2000', '2010', '2020']\n",
    "hulu_line = hulu_df.groupby(['Decade']).agg({'IMDb': ['mean']})\n",
    "hulu_line = hulu_line.dropna(how='any')\n",
    "hulu_line.plot()\n",
    "plt.xticks(tick_locations, year_names)\n",
    "plt.ylabel('IMDb Rating')\n",
    "plt.legend().remove()\n",
    "plt.title('Hulu')\n",
    "plt.savefig('PNG/hulu_movie_ratings_time.png')\n",
    "plt.show()"
   ]
  },
  {
   "cell_type": "code",
   "execution_count": 20,
   "metadata": {
    "scrolled": true
   },
   "outputs": [
    {
     "data": {
      "text/plain": [
       "<function matplotlib.pyplot.show(*args, **kw)>"
      ]
     },
     "execution_count": 20,
     "metadata": {},
     "output_type": "execute_result"
    },
    {
     "data": {
      "image/png": "[encoded data removed]",
      "text/plain": [
       "<Figure size 432x288 with 1 Axes>"
      ]
     },
     "metadata": {
      "needs_background": "light"
     },
     "output_type": "display_data"
    }
   ],
   "source": [
    "year_bin = [0, 1909, 1919, 1929, 1939, 1949, 1959, 1969, 1979, 1989, 1999, 2009, 2019, 2030]\n",
    "year_names = ['1900', '1910', '1920', '1930', '1940', '1950', '1960', '1970', '1980', '1990', '2000', '2010', '2020']\n",
    "\n",
    "prime_year_df = prime_df[['Title', 'Year']].reset_index(inplace=False)\n",
    "\n",
    "prime_year_df['Decade'] = pd.cut(prime_year_df['Year'], year_bin, labels=year_names, include_lowest=True)\n",
    "prime_year_df = prime_year_df.groupby('Decade').count().reset_index(inplace=False)\n",
    "plt.bar(prime_year_df['Decade'],prime_year_df['Year'])\n",
    "plt.xticks(rotation=90)\n",
    "plt.ylabel('Movies')\n",
    "plt.title('Amazon Prime Movies per Decades')\n",
    "\n",
    "plt.savefig(\"PNG/prime_movie_per_decade.png\")\n",
    "plt.show\n",
    "\n"
   ]
  },
  {
   "cell_type": "code",
   "execution_count": 21,
   "metadata": {},
   "outputs": [
    {
     "name": "stderr",
     "output_type": "stream",
     "text": [
      "C:\\Users\\jerod\\anaconda3\\lib\\site-packages\\ipykernel_launcher.py:1: SettingWithCopyWarning: \n",
      "A value is trying to be set on a copy of a slice from a DataFrame.\n",
      "Try using .loc[row_indexer,col_indexer] = value instead\n",
      "\n",
      "See the caveats in the documentation: https://pandas.pydata.org/pandas-docs/stable/user_guide/indexing.html#returning-a-view-versus-a-copy\n",
      "  \"\"\"Entry point for launching an IPython kernel.\n"
     ]
    },
    {
     "data": {
      "text/html": [
       "<div>\n",
       "<style scoped>\n",
       "    .dataframe tbody tr th:only-of-type {\n",
       "        vertical-align: middle;\n",
       "    }\n",
       "\n",
       "    .dataframe tbody tr th {\n",
       "        vertical-align: top;\n",
       "    }\n",
       "\n",
       "    .dataframe thead tr th {\n",
       "        text-align: left;\n",
       "    }\n",
       "\n",
       "    .dataframe thead tr:last-of-type th {\n",
       "        text-align: right;\n",
       "    }\n",
       "</style>\n",
       "<table border=\"1\" class=\"dataframe\">\n",
       "  <thead>\n",
       "    <tr>\n",
       "      <th></th>\n",
       "      <th colspan=\"3\" halign=\"left\">IMDb</th>\n",
       "    </tr>\n",
       "    <tr>\n",
       "      <th></th>\n",
       "      <th>mean</th>\n",
       "      <th>median</th>\n",
       "      <th>count</th>\n",
       "    </tr>\n",
       "    <tr>\n",
       "      <th>Decade</th>\n",
       "      <th></th>\n",
       "      <th></th>\n",
       "      <th></th>\n",
       "    </tr>\n",
       "  </thead>\n",
       "  <tbody>\n",
       "    <tr>\n",
       "      <th>1900</th>\n",
       "      <td>8.200000</td>\n",
       "      <td>8.20</td>\n",
       "      <td>1</td>\n",
       "    </tr>\n",
       "    <tr>\n",
       "      <th>1910</th>\n",
       "      <td>5.928571</td>\n",
       "      <td>5.70</td>\n",
       "      <td>14</td>\n",
       "    </tr>\n",
       "    <tr>\n",
       "      <th>1920</th>\n",
       "      <td>6.728571</td>\n",
       "      <td>6.90</td>\n",
       "      <td>35</td>\n",
       "    </tr>\n",
       "    <tr>\n",
       "      <th>1930</th>\n",
       "      <td>5.781953</td>\n",
       "      <td>5.80</td>\n",
       "      <td>338</td>\n",
       "    </tr>\n",
       "    <tr>\n",
       "      <th>1940</th>\n",
       "      <td>6.070442</td>\n",
       "      <td>6.10</td>\n",
       "      <td>362</td>\n",
       "    </tr>\n",
       "    <tr>\n",
       "      <th>1950</th>\n",
       "      <td>5.926563</td>\n",
       "      <td>6.10</td>\n",
       "      <td>320</td>\n",
       "    </tr>\n",
       "    <tr>\n",
       "      <th>1960</th>\n",
       "      <td>5.655457</td>\n",
       "      <td>5.70</td>\n",
       "      <td>339</td>\n",
       "    </tr>\n",
       "    <tr>\n",
       "      <th>1970</th>\n",
       "      <td>5.869559</td>\n",
       "      <td>6.00</td>\n",
       "      <td>703</td>\n",
       "    </tr>\n",
       "    <tr>\n",
       "      <th>1980</th>\n",
       "      <td>5.931776</td>\n",
       "      <td>6.00</td>\n",
       "      <td>642</td>\n",
       "    </tr>\n",
       "    <tr>\n",
       "      <th>1990</th>\n",
       "      <td>5.879737</td>\n",
       "      <td>6.05</td>\n",
       "      <td>760</td>\n",
       "    </tr>\n",
       "    <tr>\n",
       "      <th>2000</th>\n",
       "      <td>5.729568</td>\n",
       "      <td>6.00</td>\n",
       "      <td>2222</td>\n",
       "    </tr>\n",
       "    <tr>\n",
       "      <th>2010</th>\n",
       "      <td>5.701775</td>\n",
       "      <td>5.90</td>\n",
       "      <td>5803</td>\n",
       "    </tr>\n",
       "    <tr>\n",
       "      <th>2020</th>\n",
       "      <td>5.721739</td>\n",
       "      <td>5.90</td>\n",
       "      <td>23</td>\n",
       "    </tr>\n",
       "  </tbody>\n",
       "</table>\n",
       "</div>"
      ],
      "text/plain": [
       "            IMDb             \n",
       "            mean median count\n",
       "Decade                       \n",
       "1900    8.200000   8.20     1\n",
       "1910    5.928571   5.70    14\n",
       "1920    6.728571   6.90    35\n",
       "1930    5.781953   5.80   338\n",
       "1940    6.070442   6.10   362\n",
       "1950    5.926563   6.10   320\n",
       "1960    5.655457   5.70   339\n",
       "1970    5.869559   6.00   703\n",
       "1980    5.931776   6.00   642\n",
       "1990    5.879737   6.05   760\n",
       "2000    5.729568   6.00  2222\n",
       "2010    5.701775   5.90  5803\n",
       "2020    5.721739   5.90    23"
      ]
     },
     "execution_count": 21,
     "metadata": {},
     "output_type": "execute_result"
    }
   ],
   "source": [
    "prime_df[\"Decade\"] = pd.cut(prime_df['Year'], year_bin, labels=year_names, include_lowest=True)\n",
    "\n",
    "summary_prime = prime_df.groupby(['Decade']).agg({'IMDb': ['mean', 'median', 'count']})\n",
    "summary_prime = summary_prime.dropna(how='any')\n",
    "summary_prime"
   ]
  },
  {
   "cell_type": "code",
   "execution_count": 39,
   "metadata": {},
   "outputs": [
    {
     "data": {
      "image/png": "[encoded data removed]",
      "text/plain": [
       "<Figure size 432x288 with 1 Axes>"
      ]
     },
     "metadata": {
      "needs_background": "light"
     },
     "output_type": "display_data"
    }
   ],
   "source": [
    "tick_locations = [0, 1, 2, 3, 4, 5, 6, 7, 8, 9, 10, 11, 12]\n",
    "prime_line = prime_df.groupby(['Decade']).agg({'IMDb': ['mean']})\n",
    "prime_line = prime_line.dropna(how='any')\n",
    "prime_line.plot()\n",
    "plt.xticks(tick_locations, year_names)\n",
    "plt.ylabel('IMDb Rating')\n",
    "plt.legend().remove()\n",
    "plt.title('Amazon Prime')\n",
    "plt.savefig('PNG/prime_movie_ratings_time.png')\n",
    "plt.show()"
   ]
  },
  {
   "cell_type": "code",
   "execution_count": 24,
   "metadata": {},
   "outputs": [
    {
     "data": {
      "text/plain": [
       "<function matplotlib.pyplot.show(*args, **kw)>"
      ]
     },
     "execution_count": 24,
     "metadata": {},
     "output_type": "execute_result"
    },
    {
     "data": {
      "image/png": "[encoded data removed]",
      "text/plain": [
       "<Figure size 432x288 with 1 Axes>"
      ]
     },
     "metadata": {
      "needs_background": "light"
     },
     "output_type": "display_data"
    }
   ],
   "source": [
    "year_bin = [0, 1929, 1939, 1949, 1959, 1969, 1979, 1989, 1999, 2009, 2019, 2030]\n",
    "year_names = ['1920', '1930', '1940', '1950', '1960', '1970', '1980', '1990', '2000', '2010', '2020']\n",
    "\n",
    "disney_year_df = disney_df[['Title', 'Year']].reset_index(inplace=False)\n",
    "\n",
    "disney_year_df['Decade'] = pd.cut(disney_year_df['Year'], year_bin, labels=year_names, include_lowest=True)\n",
    "disney_year_df = disney_year_df.groupby('Decade').count().reset_index(inplace=False)\n",
    "plt.bar(disney_year_df['Decade'],disney_year_df['Year'])\n",
    "plt.ylabel('Movies')\n",
    "plt.title('Disney Movies per Decades')\n",
    "\n",
    "plt.savefig(\"PNG/Disney_movie_per_decade.png\")\n",
    "plt.show\n",
    "\n"
   ]
  },
  {
   "cell_type": "code",
   "execution_count": 26,
   "metadata": {},
   "outputs": [
    {
     "name": "stderr",
     "output_type": "stream",
     "text": [
      "C:\\Users\\jerod\\anaconda3\\lib\\site-packages\\ipykernel_launcher.py:1: SettingWithCopyWarning: \n",
      "A value is trying to be set on a copy of a slice from a DataFrame.\n",
      "Try using .loc[row_indexer,col_indexer] = value instead\n",
      "\n",
      "See the caveats in the documentation: https://pandas.pydata.org/pandas-docs/stable/user_guide/indexing.html#returning-a-view-versus-a-copy\n",
      "  \"\"\"Entry point for launching an IPython kernel.\n"
     ]
    },
    {
     "data": {
      "text/html": [
       "<div>\n",
       "<style scoped>\n",
       "    .dataframe tbody tr th:only-of-type {\n",
       "        vertical-align: middle;\n",
       "    }\n",
       "\n",
       "    .dataframe tbody tr th {\n",
       "        vertical-align: top;\n",
       "    }\n",
       "\n",
       "    .dataframe thead tr th {\n",
       "        text-align: left;\n",
       "    }\n",
       "\n",
       "    .dataframe thead tr:last-of-type th {\n",
       "        text-align: right;\n",
       "    }\n",
       "</style>\n",
       "<table border=\"1\" class=\"dataframe\">\n",
       "  <thead>\n",
       "    <tr>\n",
       "      <th></th>\n",
       "      <th colspan=\"3\" halign=\"left\">Disney+</th>\n",
       "    </tr>\n",
       "    <tr>\n",
       "      <th></th>\n",
       "      <th>mean</th>\n",
       "      <th>median</th>\n",
       "      <th>count</th>\n",
       "    </tr>\n",
       "    <tr>\n",
       "      <th>Decade</th>\n",
       "      <th></th>\n",
       "      <th></th>\n",
       "      <th></th>\n",
       "    </tr>\n",
       "  </thead>\n",
       "  <tbody>\n",
       "    <tr>\n",
       "      <th>1920</th>\n",
       "      <td>1</td>\n",
       "      <td>1</td>\n",
       "      <td>4</td>\n",
       "    </tr>\n",
       "    <tr>\n",
       "      <th>1930</th>\n",
       "      <td>1</td>\n",
       "      <td>1</td>\n",
       "      <td>2</td>\n",
       "    </tr>\n",
       "    <tr>\n",
       "      <th>1940</th>\n",
       "      <td>1</td>\n",
       "      <td>1</td>\n",
       "      <td>10</td>\n",
       "    </tr>\n",
       "    <tr>\n",
       "      <th>1950</th>\n",
       "      <td>1</td>\n",
       "      <td>1</td>\n",
       "      <td>23</td>\n",
       "    </tr>\n",
       "    <tr>\n",
       "      <th>1960</th>\n",
       "      <td>1</td>\n",
       "      <td>1</td>\n",
       "      <td>23</td>\n",
       "    </tr>\n",
       "    <tr>\n",
       "      <th>1970</th>\n",
       "      <td>1</td>\n",
       "      <td>1</td>\n",
       "      <td>31</td>\n",
       "    </tr>\n",
       "    <tr>\n",
       "      <th>1980</th>\n",
       "      <td>1</td>\n",
       "      <td>1</td>\n",
       "      <td>35</td>\n",
       "    </tr>\n",
       "    <tr>\n",
       "      <th>1990</th>\n",
       "      <td>1</td>\n",
       "      <td>1</td>\n",
       "      <td>84</td>\n",
       "    </tr>\n",
       "    <tr>\n",
       "      <th>2000</th>\n",
       "      <td>1</td>\n",
       "      <td>1</td>\n",
       "      <td>182</td>\n",
       "    </tr>\n",
       "    <tr>\n",
       "      <th>2010</th>\n",
       "      <td>1</td>\n",
       "      <td>1</td>\n",
       "      <td>152</td>\n",
       "    </tr>\n",
       "    <tr>\n",
       "      <th>2020</th>\n",
       "      <td>1</td>\n",
       "      <td>1</td>\n",
       "      <td>8</td>\n",
       "    </tr>\n",
       "  </tbody>\n",
       "</table>\n",
       "</div>"
      ],
      "text/plain": [
       "       Disney+             \n",
       "          mean median count\n",
       "Decade                     \n",
       "1920         1      1     4\n",
       "1930         1      1     2\n",
       "1940         1      1    10\n",
       "1950         1      1    23\n",
       "1960         1      1    23\n",
       "1970         1      1    31\n",
       "1980         1      1    35\n",
       "1990         1      1    84\n",
       "2000         1      1   182\n",
       "2010         1      1   152\n",
       "2020         1      1     8"
      ]
     },
     "execution_count": 26,
     "metadata": {},
     "output_type": "execute_result"
    }
   ],
   "source": [
    "disney_df[\"Decade\"] = pd.cut(disney_df['Year'], year_bin, labels=year_names, include_lowest=True)\n",
    "\n",
    "summary_disney = disney_df.groupby(['Decade']).agg({'Disney+': ['mean', 'median', 'count']})\n",
    "summary_disney = summary_disney.dropna(how='any')\n",
    "summary_disney"
   ]
  },
  {
   "cell_type": "code",
   "execution_count": 40,
   "metadata": {},
   "outputs": [
    {
     "data": {
      "image/png": "[encoded data removed]",
      "text/plain": [
       "<Figure size 432x288 with 1 Axes>"
      ]
     },
     "metadata": {
      "needs_background": "light"
     },
     "output_type": "display_data"
    }
   ],
   "source": [
    "tick_locations = [0, 1, 2, 3, 4, 5, 6, 7, 8, 9, 10]\n",
    "disney_line = disney_df.groupby(['Decade']).agg({'IMDb': ['mean']})\n",
    "disney_line = disney_line.dropna(how='any')\n",
    "disney_line.plot()\n",
    "plt.xticks(tick_locations, year_names)\n",
    "plt.ylabel('IMDb Rating')\n",
    "plt.legend().remove()\n",
    "plt.title('Disney+')\n",
    "plt.savefig('PNG/disney_movie_ratings_time.png')\n",
    "plt.show()"
   ]
  },
  {
   "cell_type": "code",
   "execution_count": 30,
   "metadata": {},
   "outputs": [],
   "source": [
    "high_ratings = movies_df.loc[movies_df['IMDb']>8]\n",
    "director_df = high_ratings['Directors'].value_counts().head(30).reset_index()\n",
    "# print(director_df)\n",
    "# for director in director_df[]:\n",
    "#     top_directors = top_directors.append(high_ratings.loc[(high_ratings['Directors'] == director)])\n",
    "#     print(director)\n",
    "top_directors = high_ratings.loc[(high_ratings['Directors'] == 'Steven J. Santos') |\n",
    "                                (high_ratings['Directors'] == 'Christopher Nolan') |\n",
    "                                 (high_ratings['Directors'] == 'Hrishikesh Mukherjee') |\n",
    "                                 (high_ratings['Directors'] == 'Quentin Tarantino') |\n",
    "                               (high_ratings['Directors'] == 'Martin Scorsese')]\n"
   ]
  },
  {
   "cell_type": "code",
   "execution_count": 31,
   "metadata": {},
   "outputs": [
    {
     "data": {
      "text/plain": [
       "<function matplotlib.pyplot.show(*args, **kw)>"
      ]
     },
     "execution_count": 31,
     "metadata": {},
     "output_type": "execute_result"
    },
    {
     "data": {
      "image/png": "[encoded data removed]",
      "text/plain": [
       "<Figure size 432x288 with 1 Axes>"
      ]
     },
     "metadata": {
      "needs_background": "light"
     },
     "output_type": "display_data"
    }
   ],
   "source": [
    "dnetflix_df = top_directors.loc[top_directors['Netflix'] == 1]\n",
    "dnetflix = (len(dnetflix_df))\n",
    "\n",
    "dhulu_df = top_directors.loc[top_directors['Hulu'] == 1]\n",
    "dhulu = (len(dhulu_df))\n",
    "\n",
    "dprime_df = top_directors.loc[top_directors['Prime Video'] == 1]\n",
    "dprime = (len(dprime_df))\n",
    "\n",
    "ddisney_df = top_directors.loc[top_directors['Disney+'] == 1]\n",
    "ddisney = (len(ddisney_df))\n",
    "\n",
    "dcount_df = pd.DataFrame({'Streaming Services': ['Netflix', 'Hulu', 'Amazon Prime', 'Disney+'],\n",
    "                         'Count': [dnetflix, dhulu, dprime, ddisney]}\n",
    "                       ).set_index('Streaming Services')\n",
    "dcount_df.plot(kind='bar')\n",
    "plt.ylabel('Top Directors')\n",
    "plt.title('Top Directors per Streaming Platform')\n",
    "plt.xticks(rotation = 0) \n",
    "plt.legend().remove()\n",
    "\n",
    "plt.savefig(\"PNG/movie_rating_per_director.png\")\n",
    "plt.show\n"
   ]
  },
  {
   "cell_type": "code",
   "execution_count": 32,
   "metadata": {},
   "outputs": [
    {
     "data": {
      "text/plain": [
       "<function matplotlib.pyplot.show(*args, **kw)>"
      ]
     },
     "execution_count": 32,
     "metadata": {},
     "output_type": "execute_result"
    },
    {
     "data": {
      "image/png": "[encoded data removed]",
      "text/plain": [
       "<Figure size 432x288 with 1 Axes>"
      ]
     },
     "metadata": {
      "needs_background": "light"
     },
     "output_type": "display_data"
    }
   ],
   "source": [
    "dyear = top_directors['Year']\n",
    "drating = top_directors['IMDb']\n",
    "plt.scatter(dyear, drating)\n",
    "plt.ylabel('IMDb Rating')\n",
    "plt.xlabel('Release Year')\n",
    "\n",
    "plt.title('Top Directors per Decade and Rating')\n",
    "\n",
    "plt.savefig(\"PNG/directos_rating_per_decade.png\")\n",
    "plt.show"
   ]
  },
  {
   "cell_type": "code",
   "execution_count": null,
   "metadata": {},
   "outputs": [],
   "source": []
  }
 ],
 "metadata": {
  "kernelspec": {
   "display_name": "Python [conda env:root]",
   "language": "python",
   "name": "conda-root-py"
  },
  "language_info": {
   "codemirror_mode": {
    "name": "ipython",
    "version": 3
   },
   "file_extension": ".py",
   "mimetype": "text/x-python",
   "name": "python",
   "nbconvert_exporter": "python",
   "pygments_lexer": "ipython3",
   "version": "3.7.6"
  }
 },
 "nbformat": 4,
 "nbformat_minor": 4
}
